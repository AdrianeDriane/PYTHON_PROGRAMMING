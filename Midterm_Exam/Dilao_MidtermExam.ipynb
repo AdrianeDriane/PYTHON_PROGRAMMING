{
 "cells": [
  {
   "cell_type": "markdown",
   "id": "54eaf6c2-8b80-4fa4-b09c-8ece07d2004f",
   "metadata": {},
   "source": [
    "# MIDTERM EXAM - Dilao, Ralph Adriane P."
   ]
  },
  {
   "cell_type": "markdown",
   "id": "237a7fc8-cbed-42ff-bbc2-2d61bbe4b0c0",
   "metadata": {},
   "source": [
    "## Q1. String Normalizer & Finder"
   ]
  },
  {
   "cell_type": "markdown",
   "id": "313b807e-d60d-44b2-8f85-481200aea89a",
   "metadata": {},
   "source": [
    "### Task:"
   ]
  },
  {
   "cell_type": "markdown",
   "id": "0ba91a27-ce71-4020-b94b-8fd80145142d",
   "metadata": {},
   "source": [
    "Write a function normalize_and_find(text: str, needle: str) -> int that: (1) trims whitespace on both ends, (2) converts to lowercase, then (3) returns the index of the first occurrence of needle using a safe search (return −1 if not found). Discuss alternatives (find vs. index), and how your choice affects error handling. Anchor concepts: stripping, case conversion, find/replace, string immutability. Reference: :contentReference[oaicite:6]index=6"
   ]
  },
  {
   "cell_type": "markdown",
   "id": "6476ed8e-65ae-4fc1-a82d-fb1ee498db0b",
   "metadata": {},
   "source": [
    "### Prompt:"
   ]
  },
  {
   "cell_type": "markdown",
   "id": "d82d9966-d983-4b2f-82aa-6bdbfee56669",
   "metadata": {},
   "source": [
    "Write a Python function normalize_and_find(text: str, needle: str) -> int that removes leading and trailing whitespace from text, converts both text and needle to lowercase, then returns the index of the first occurrence of needle in the normalized text. Return -1 if needle is not found."
   ]
  },
  {
   "cell_type": "markdown",
   "id": "8feba4fa-bc0d-4ebe-94b6-67dccb6c51d8",
   "metadata": {},
   "source": [
    "### Claude Code:"
   ]
  },
  {
   "cell_type": "code",
   "execution_count": 6,
   "id": "ab294563-e300-4b1a-b488-80027c16b57f",
   "metadata": {},
   "outputs": [
    {
     "name": "stdout",
     "output_type": "stream",
     "text": [
      "6\n",
      "-1\n"
     ]
    }
   ],
   "source": [
    "def normalize_and_find(text: str, needle: str) -> int:\n",
    "    text = text.strip().lower()\n",
    "    needle = needle.lower()\n",
    "    return text.find(needle)\n",
    "\n",
    "# Test\n",
    "print(normalize_and_find(\"  Hello World  \", \"world\"))\n",
    "print(normalize_and_find(\"Python Programming\", \"java\"))"
   ]
  },
  {
   "cell_type": "markdown",
   "id": "7e276a9d-67d1-48ef-b854-dfd3e556e5f6",
   "metadata": {},
   "source": [
    "### Critique:"
   ]
  },
  {
   "cell_type": "markdown",
   "id": "32a6a180-f22f-45f5-a83f-ed34d144bf70",
   "metadata": {},
   "source": [
    "Correctness: Works correctly and returns -1 when needle is not found. The function does exactly what it's supposed to do.\n",
    "\n",
    "Complexity: O(n) time where n is the length of text. Space is O(n) because strings are immutable, so each operation creates a new string.\n",
    "\n",
    "Robustness: No type checking for inputs. Will crash if you pass non-string values like numbers or None. Doesn't handle edge cases explicitly but they still work fine.\n",
    "\n",
    "Readability: Simple and clean code but missing docstring and comments. The variable names are good but could explain why .find() was chosen over .index().\n",
    "\n",
    "Faithfulness: Uses .strip() and .lower() methods from the string manipulation lecture. The choice of .find() follows safe error handling practices discussed in class instead of using exceptions."
   ]
  },
  {
   "cell_type": "markdown",
   "id": "4358a718-eb22-40b9-92e3-6c210ba6701b",
   "metadata": {},
   "source": [
    "### Improved Code:"
   ]
  },
  {
   "cell_type": "code",
   "execution_count": 8,
   "id": "3f728568-ba21-4ef1-80ca-98ffcbceb25f",
   "metadata": {},
   "outputs": [
    {
     "name": "stdout",
     "output_type": "stream",
     "text": [
      "6\n",
      "-1\n",
      "0\n",
      "-1\n"
     ]
    }
   ],
   "source": [
    "def normalize_and_find(text: str, needle: str) -> int:\n",
    "    \"\"\"\n",
    "    Find first occurrence of needle in normalized text.\n",
    "    \n",
    "    Returns -1 if not found.\n",
    "    \"\"\"\n",
    "    # Check if inputs are strings\n",
    "    if type(text) != str or type(needle) != str:\n",
    "        print(\"Error: Both inputs must be strings\")\n",
    "        return -1\n",
    "    \n",
    "    # Trim whitespace and convert to lowercase\n",
    "    text = text.strip().lower()\n",
    "    needle = needle.lower()\n",
    "    \n",
    "    # Use .find() because it returns -1 if not found\n",
    "    # .index() would raise an error instead\n",
    "    return text.find(needle)\n",
    "\n",
    "# Test cases\n",
    "print(normalize_and_find(\"  Hello World  \", \"world\"))\n",
    "print(normalize_and_find(\"Python Programming\", \"java\"))\n",
    "print(normalize_and_find(\"HELLO\", \"hello\"))\n",
    "print(normalize_and_find(\"\", \"test\"))"
   ]
  },
  {
   "cell_type": "markdown",
   "id": "dc3a90c7-5ad4-43ba-af6d-5de69d0224ca",
   "metadata": {},
   "source": [
    "## Q2. Leetspeak Translator (Parametric)"
   ]
  },
  {
   "cell_type": "markdown",
   "id": "b872bb14-1c6d-4ce9-8c60-7be7a96c00ce",
   "metadata": {},
   "source": [
    "### Task:"
   ]
  },
  {
   "cell_type": "markdown",
   "id": "4c2deb72-139b-41f4-9650-5040bbfad080",
   "metadata": {},
   "source": [
    "Generalize our leetspeak idea: write translate(text: str, mapping: dict[str,str]) -> str that applies a mapping (e.g., {’a’:’4’,’e’:’3’,...}) over lowercase letters only, leaving others unchanged. Explain why strings are immutable and show an efficient approach (e.g., list join vs. repeated concatenation). Anchor concepts: replace, iteration strategies, efficiency. Reference: :contentReference[oaicite:7]index=7"
   ]
  },
  {
   "cell_type": "markdown",
   "id": "c004ccbb-4cbf-41b8-a44b-43fa9034287f",
   "metadata": {},
   "source": [
    "### Prompt:"
   ]
  },
  {
   "cell_type": "markdown",
   "id": "897644e8-5c36-45ad-b7d5-75aa1ff18e7c",
   "metadata": {},
   "source": [
    "Write a Python function translate(text: str, mapping: dict[str,str]) -> str that applies a character mapping dictionary to a string. The function should convert the text to lowercase first, then replace characters according to the mapping. Characters not in the mapping should remain unchanged."
   ]
  },
  {
   "cell_type": "markdown",
   "id": "3859f3a6-fcd7-4e17-8f3d-7757a2ad51df",
   "metadata": {},
   "source": [
    "### Claude Code:"
   ]
  },
  {
   "cell_type": "code",
   "execution_count": 10,
   "id": "ac1218ee-bfdb-4ec3-a48d-1bdab046e216",
   "metadata": {},
   "outputs": [
    {
     "name": "stdout",
     "output_type": "stream",
     "text": [
      "h3ll0 w0rld\n"
     ]
    }
   ],
   "source": [
    "def translate(text, mapping):\n",
    "    result = \"\"\n",
    "    for ch in text:\n",
    "        if ch in mapping:\n",
    "            result += mapping[ch]\n",
    "        else:\n",
    "            result += ch\n",
    "    return result\n",
    "\n",
    "# Test\n",
    "mapping = {'a':'4', 'e':'3', 'i':'1', 'o':'0', 's':'5'}\n",
    "print(translate(\"hello world\", mapping))"
   ]
  },
  {
   "cell_type": "markdown",
   "id": "1c20dd48-fe70-4074-864a-4c53742669a2",
   "metadata": {},
   "source": [
    "### Critique:"
   ]
  },
  {
   "cell_type": "markdown",
   "id": "a84f5dc6-fae9-489d-8ce8-33c838646654",
   "metadata": {},
   "source": [
    "Correctness: Works for basic cases and correctly replaces characters found in the mapping. However, it doesn't convert to lowercase first, so uppercase letters won't be replaced as required.\n",
    "\n",
    "Complexity: O(n) time where n is the length of text. But the repeated string concatenation with += is inefficient in Python because strings are immutable. Each concatenation creates a new string object, making it O(n²) in practice.\n",
    "\n",
    "Robustness: No input validation. Doesn't check if text is a string or if mapping is a dictionary. Will crash on wrong input types. Also missing the lowercase conversion requirement.\n",
    "\n",
    "Readability: Short and simple, but missing comments and docstring. Variable names are okay but could be more descriptive (ch is fine, but result_list would be clearer).\n",
    "\n",
    "Faithfulness: Uses basic iteration and dictionary lookup from lecture materials. However, doesn't follow the efficient string building pattern with lists that was discussed in class."
   ]
  },
  {
   "cell_type": "markdown",
   "id": "4f5263cc-9133-4447-a435-22affd0ee27a",
   "metadata": {},
   "source": [
    "### Improved Code:"
   ]
  },
  {
   "cell_type": "code",
   "execution_count": 12,
   "id": "82052f68-86b9-4e79-bc13-b33e62071568",
   "metadata": {},
   "outputs": [
    {
     "name": "stdout",
     "output_type": "stream",
     "text": [
      "h3ll0 w0rld\n",
      "l3375p34k 15 c00l\n",
      "py7h0n 123!\n"
     ]
    }
   ],
   "source": [
    "def translate(text, mapping):\n",
    "    \"\"\"\n",
    "    Translate text using a character mapping dictionary.\n",
    "    \n",
    "    Converts text to lowercase, then replaces characters according to mapping.\n",
    "    \"\"\"\n",
    "    # Validate input types\n",
    "    if type(text) != str:\n",
    "        print(\"Error: text must be a string\")\n",
    "        return \"\"\n",
    "    \n",
    "    if type(mapping) != dict:\n",
    "        print(\"Error: mapping must be a dictionary\")\n",
    "        return \"\"\n",
    "    \n",
    "    # Use list for efficient building (strings are immutable)\n",
    "    result_list = []\n",
    "    \n",
    "    # Convert to lowercase and process each character\n",
    "    for ch in text.lower():\n",
    "        if ch in mapping:\n",
    "            result_list.append(mapping[ch])\n",
    "        else:\n",
    "            result_list.append(ch)\n",
    "    \n",
    "    # Join list into final string (more efficient than repeated +=)\n",
    "    # Strings are immutable, so each += creates a new string object\n",
    "    # Using a list and joining once is much faster\n",
    "    return \"\".join(result_list)\n",
    "\n",
    "# Test cases\n",
    "mapping = {'a':'4', 'e':'3', 'i':'1', 'o':'0', 's':'5', 't':'7'}\n",
    "print(translate(\"Hello World\", mapping))\n",
    "print(translate(\"LEETSPEAK IS COOL\", mapping))\n",
    "print(translate(\"Python 123!\", mapping))"
   ]
  },
  {
   "cell_type": "markdown",
   "id": "3f35246f-e0c7-4021-a88a-6e26bd73fc28",
   "metadata": {},
   "source": [
    "## Q3. Currency Formatter & Rounding Ties-to-Even"
   ]
  },
  {
   "cell_type": "markdown",
   "id": "55e3c072-f745-49c0-9371-ae54e4e62f26",
   "metadata": {},
   "source": [
    "### Task:"
   ]
  },
  {
   "cell_type": "markdown",
   "id": "c751499f-1ba4-430c-bd29-a1a0c90d1d2b",
   "metadata": {},
   "source": [
    "Write fmt_money(x: float) -> str that returns a string like 1,234.50 using proper rounding (banker’s rounding / ties-to-even). Include test cases that demonstrate ties (e.g., 2.5, 3.5). Explain 2 floating-point representation error and how formatting mitigates it for display. Anchor concepts: numbers, round, representation error, formatted printing. Reference::contentReference[oaicite:8]index=8"
   ]
  },
  {
   "cell_type": "markdown",
   "id": "25a25146-222a-428d-bf84-f8d2d0d74600",
   "metadata": {},
   "source": [
    "### Prompt:"
   ]
  },
  {
   "cell_type": "markdown",
   "id": "91de7fb6-acba-43aa-a899-5a88d3801e4a",
   "metadata": {},
   "source": [
    "Write a Python function fmt_money(x: float) -> str that formats a number as currency with commas and exactly 2 decimal places (e.g., 1,234.50). Use banker's rounding (ties-to-even). Include test cases with tie values like 2.5 and 3.5."
   ]
  },
  {
   "cell_type": "markdown",
   "id": "b8e30e6a-209d-4fed-b68d-473ce6d9912a",
   "metadata": {},
   "source": [
    "### Claude Code:"
   ]
  },
  {
   "cell_type": "code",
   "execution_count": 3,
   "id": "126c42cf-ef88-4012-a42c-897c17ddaf1f",
   "metadata": {},
   "outputs": [
    {
     "name": "stdout",
     "output_type": "stream",
     "text": [
      "1,234.50\n",
      "2.50\n",
      "3.50\n"
     ]
    }
   ],
   "source": [
    "def fmt_money(x):\n",
    "    return f\"{round(x, 2):,.2f}\"\n",
    "\n",
    "# Test\n",
    "print(fmt_money(1234.5))\n",
    "print(fmt_money(2.5))\n",
    "print(fmt_money(3.5))"
   ]
  },
  {
   "cell_type": "markdown",
   "id": "4d0304ec-42c0-4286-a52d-c8fe92979d88",
   "metadata": {},
   "source": [
    "### Critique:"
   ]
  },
  {
   "cell_type": "markdown",
   "id": "e0bceeb3-ac91-4dcb-8706-faedef2bb1bc",
   "metadata": {},
   "source": [
    "Correctness: Produces correctly formatted currency strings with commas and two decimal places. Python's round() function uses banker's rounding by default, so ties are handled correctly.\n",
    "\n",
    "Complexity: O(1) for the formatting operation. The time is constant regardless of the size of the number.\n",
    "\n",
    "Robustness: No input validation. Will crash if you pass a non-numeric value like a string. Doesn't handle None or invalid types gracefully.\n",
    "\n",
    "Readability: Very concise one-liner, but lacks docstring and comments. Could benefit from explaining the formatting syntax and rounding behavior.\n",
    "\n",
    "Faithfulness: Uses round() function and f-string formatting as covered in lecture on number formatting. The :,.2f format specifier was discussed for currency display."
   ]
  },
  {
   "cell_type": "code",
   "execution_count": 4,
   "id": "39618399-adad-426f-9f05-0490eb51af82",
   "metadata": {},
   "outputs": [
    {
     "name": "stdout",
     "output_type": "stream",
     "text": [
      "1,234.50\n",
      "2.50\n",
      "3.50\n",
      "2.56\n",
      "0.30\n"
     ]
    }
   ],
   "source": [
    "def fmt_money(x):\n",
    "    \"\"\"\n",
    "    Format a number as currency with commas and 2 decimal places.\n",
    "    \n",
    "    Uses banker's rounding (ties-to-even) for proper rounding.\n",
    "    \"\"\"\n",
    "    # Validate input is numeric\n",
    "    if type(x) != int and type(x) != float:\n",
    "        print(\"Error: Input must be a number\")\n",
    "        return \"Invalid input\"\n",
    "    \n",
    "    # Round to 2 decimals using banker's rounding (default in Python)\n",
    "    # Format with commas and exactly 2 decimal places\n",
    "    # The :,.2f means: comma separator, 2 decimals, float\n",
    "    return f\"{round(x, 2):,.2f}\"\n",
    "    \n",
    "    # Floating-point representation error: Some decimals like 0.1 cannot be \n",
    "    # stored exactly in binary, causing small errors (e.g., 0.1 + 0.2 = 0.30000000000000004).\n",
    "    # Formatting to 2 decimals fixes this for display by rounding away the tiny errors.\n",
    "\n",
    "# Test cases\n",
    "print(fmt_money(1234.5))      # 1,234.50\n",
    "print(fmt_money(2.5))         # 2.50 (rounds to even: 2)\n",
    "print(fmt_money(3.5))         # 3.50 (rounds to even: 4)\n",
    "print(fmt_money(2.555))       # 2.56 (demonstrates rounding)\n",
    "print(fmt_money(0.1 + 0.2))   # 0.30 (handles floating-point error)"
   ]
  },
  {
   "cell_type": "markdown",
   "id": "b955551f-dfdd-4336-9a54-412ceade9548",
   "metadata": {},
   "source": [
    "## Q4. Exponent Tool & Input Validation"
   ]
  },
  {
   "cell_type": "markdown",
   "id": "f56dd8cb-1fc9-4bca-97dd-fef5e4a834ea",
   "metadata": {},
   "source": [
    "### Task:"
   ]
  },
  {
   "cell_type": "markdown",
   "id": "79c6acff-223f-4998-b2f8-e0b98419ab83",
   "metadata": {},
   "source": [
    "Create a CLI program exponent.py that reads two values, validates they are numeric, handles errors gracefully (e.g., ValueError), and prints a ** b with clear messages. Compare using try/except vs. pre-validation with str.isdigit() (and why isdigit() is insufficient for negatives/floats). Anchor \n",
    "concepts: arithmetic operators, exceptions, input. Reference: :contentReference[oaicite:9]index=9, :contentReference[oaicite:10]index=10"
   ]
  },
  {
   "cell_type": "markdown",
   "id": "13297e29-d2f3-49c3-9b9e-800ba8121084",
   "metadata": {},
   "source": [
    "### Prompt:"
   ]
  },
  {
   "cell_type": "markdown",
   "id": "0c95ef68-89e3-40b3-a60f-e68308720ce7",
   "metadata": {},
   "source": [
    "Create a Python program that asks the user to enter two numbers (base and exponent), validates that both inputs are numeric, and calculates base raised to the power of exponent. Handle invalid inputs gracefully using error handling."
   ]
  },
  {
   "cell_type": "markdown",
   "id": "c49152bb-b0ae-4f8b-a8f1-6d0c5fe74818",
   "metadata": {},
   "source": [
    "### Claude Code:"
   ]
  },
  {
   "cell_type": "code",
   "execution_count": 5,
   "id": "7efbd486-3a32-4608-bc10-ffa3ea29b0dc",
   "metadata": {},
   "outputs": [
    {
     "name": "stdin",
     "output_type": "stream",
     "text": [
      "Enter base:  4\n",
      "Enter exponent:  2\n"
     ]
    },
    {
     "name": "stdout",
     "output_type": "stream",
     "text": [
      "16.0\n"
     ]
    }
   ],
   "source": [
    "a = float(input(\"Enter base: \"))\n",
    "b = float(input(\"Enter exponent: \"))\n",
    "print(a ** b)"
   ]
  },
  {
   "cell_type": "markdown",
   "id": "065d9727-c2b9-437f-a1df-9680b4ec5129",
   "metadata": {},
   "source": [
    "### Critique:"
   ]
  },
  {
   "cell_type": "markdown",
   "id": "3630c4d1-fc62-4569-90a4-17482ba6907d",
   "metadata": {},
   "source": [
    "Correctness: Calculates the exponent correctly when valid numbers are provided. The ** operator works as expected for both integer and float values.\n",
    "\n",
    "Complexity: O(1) for the exponentiation operation itself.\n",
    "\n",
    "Robustness: Will crash immediately if the user enters non-numeric input like \"hello\" or leaves it blank. No error handling at all with try/except blocks.\n",
    "\n",
    "Readability: Very minimal code with no comments, docstrings, or user-friendly messages. Doesn't explain what the program does or what went wrong if there's an error.\n",
    "\n",
    "Faithfulness: Uses the ** exponentiation operator covered in lecture on arithmetic operations. However, missing the error handling techniques discussed in the exceptions lecture."
   ]
  },
  {
   "cell_type": "markdown",
   "id": "644f2f3d-f162-4a3c-b03e-378d903b7beb",
   "metadata": {},
   "source": [
    "### Improved Code:"
   ]
  },
  {
   "cell_type": "code",
   "execution_count": 7,
   "id": "395611a3-e959-4788-aaf0-b6a33f2139ae",
   "metadata": {},
   "outputs": [
    {
     "name": "stdin",
     "output_type": "stream",
     "text": [
      "Enter base:  8\n",
      "Enter exponent:  2\n"
     ]
    },
    {
     "name": "stdout",
     "output_type": "stream",
     "text": [
      "Result: 8.0 ** 2.0 = 64.0\n"
     ]
    }
   ],
   "source": [
    "def exponent_tool():\n",
    "    \"\"\"\n",
    "    CLI tool to calculate base ** exponent with input validation.\n",
    "    \"\"\"\n",
    "    # Use try/except to catch conversion errors\n",
    "    try:\n",
    "        a = float(input(\"Enter base: \"))\n",
    "        b = float(input(\"Enter exponent: \"))\n",
    "        \n",
    "        # Calculate and display result\n",
    "        result = a ** b\n",
    "        print(f\"Result: {a} ** {b} = {result}\")\n",
    "        \n",
    "    except ValueError:\n",
    "        # This catches errors when input can't be converted to float\n",
    "        print(\"Error: Please enter valid numeric values only.\")\n",
    "    \n",
    "    # Why try/except is better than str.isdigit():\n",
    "    # - isdigit() only works for positive integers (e.g., \"123\")\n",
    "    # - It fails for negative numbers (e.g., \"-5\") and floats (e.g., \"3.14\")\n",
    "    # - try/except handles all numeric conversions including negatives and decimals\n",
    "    # - It's more Pythonic to ask for forgiveness than permission (EAFP)\n",
    "\n",
    "# Run the program\n",
    "exponent_tool()"
   ]
  },
  {
   "cell_type": "markdown",
   "id": "4247ec5c-6c22-4415-a28e-e717afac72e3",
   "metadata": {},
   "source": [
    "## Q5. Password Policy Checker (If/Elif/Else + Loops)"
   ]
  },
  {
   "cell_type": "markdown",
   "id": "daa04226-9215-4427-9ef5-8000756e7587",
   "metadata": {},
   "source": [
    "### Task:"
   ]
  },
  {
   "cell_type": "markdown",
   "id": "af433084-3583-40f8-8302-881b3495a187",
   "metadata": {},
   "source": [
    "Implement check_password(pw:\n",
    "str) -> dict that validates: length ≥ 10, at least one uppercase, one lowercase,\n",
    "one digit, one symbol in !@#$%^&*, and no spaces. Return a dict of booleans per\n",
    "rule and an overall pass/fail. Include a loop that prompts until a valid password\n",
    "is entered (allow quit with Q/q). Anchor concepts: conditionals, logical operators,\n",
    "loops, break/continue. Reference: :contentReference[oaicite:11]index=11"
   ]
  },
  {
   "cell_type": "markdown",
   "id": "50e3b92a-9224-4e0c-af5f-9552e13a2302",
   "metadata": {},
   "source": [
    "### Prompt:"
   ]
  },
  {
   "cell_type": "markdown",
   "id": "62fcf9f3-d2c0-4a7e-81cc-d8f14d34de0e",
   "metadata": {},
   "source": [
    "Write a Python function check_password(pw: str) -> dict that validates a password against multiple rules: minimum length of 10 characters, at least one uppercase letter, at least one lowercase letter, at least one digit, at least one symbol from !@#$%^&*, and no spaces allowed. Return a dictionary with boolean values for each rule and an overall validity status. Then create a loop that keeps asking for a password until a valid one is entered, allowing the user to quit by entering Q or q."
   ]
  },
  {
   "cell_type": "markdown",
   "id": "63810f41-665e-462c-b51c-8167d66093da",
   "metadata": {},
   "source": [
    "### Claude Code:"
   ]
  },
  {
   "cell_type": "code",
   "execution_count": 9,
   "id": "f737ba29-afc6-45f6-a9b6-3d131af38122",
   "metadata": {},
   "outputs": [
    {
     "name": "stdin",
     "output_type": "stream",
     "text": [
      "Enter password:  Adriane\n"
     ]
    },
    {
     "name": "stdout",
     "output_type": "stream",
     "text": [
      "False\n"
     ]
    }
   ],
   "source": [
    "def check_password(pw):\n",
    "    return len(pw) >= 10\n",
    "\n",
    "# Test\n",
    "pw = input(\"Enter password: \")\n",
    "print(check_password(pw))"
   ]
  },
  {
   "cell_type": "markdown",
   "id": "e3a128ed-fd29-4b8d-b3a4-548e69b9b5dd",
   "metadata": {},
   "source": [
    "### Critique:"
   ]
  },
  {
   "cell_type": "markdown",
   "id": "e52b469d-a04a-419e-b5ac-74a49a78c7a3",
   "metadata": {},
   "source": [
    "Correctness: The raw code only checks length and returns a boolean instead of a dictionary. It doesn't validate uppercase, lowercase, digits, symbols, or spaces. Doesn't meet the requirements at all.\n",
    "\n",
    "Complexity: O(n) where n is the length of the password for scanning all characters. Each rule check needs to iterate through the password.\n",
    "\n",
    "Robustness: Missing all validation rules except length. No loop to keep prompting, no quit option, and doesn't return a dictionary as specified.\n",
    "\n",
    "Readability: Too simple and incomplete. Needs proper structure with clear variable names and comments for each validation rule.\n",
    "\n",
    "Faithfulness: Uses basic conditionals and string methods from lecture, but missing the loop control flow (break/continue) and comprehensive validation logic discussed in class."
   ]
  },
  {
   "cell_type": "code",
   "execution_count": 10,
   "id": "670bcf68-6997-4665-aaf9-3d7e95d9e7a5",
   "metadata": {},
   "outputs": [
    {
     "name": "stdin",
     "output_type": "stream",
     "text": [
      "\n",
      "Enter password (Q to quit):  Adri\n"
     ]
    },
    {
     "name": "stdout",
     "output_type": "stream",
     "text": [
      "\n",
      "Password Validation Results:\n",
      "Length >= 10: False\n",
      "Has Uppercase: True\n",
      "Has Lowercase: True\n",
      "Has Digit: False\n",
      "Has Symbol: False\n",
      "No Spaces: True\n",
      "Valid: False\n",
      "\n",
      "✗ Password rejected. Try again.\n"
     ]
    },
    {
     "name": "stdin",
     "output_type": "stream",
     "text": [
      "\n",
      "Enter password (Q to quit):  Password#123\n"
     ]
    },
    {
     "name": "stdout",
     "output_type": "stream",
     "text": [
      "\n",
      "Password Validation Results:\n",
      "Length >= 10: True\n",
      "Has Uppercase: True\n",
      "Has Lowercase: True\n",
      "Has Digit: True\n",
      "Has Symbol: True\n",
      "No Spaces: True\n",
      "Valid: True\n",
      "\n",
      "✓ Password accepted!\n"
     ]
    }
   ],
   "source": [
    "def check_password(pw):\n",
    "    \"\"\"\n",
    "    Validate password against security rules.\n",
    "    \n",
    "    Returns dictionary with boolean values for each rule.\n",
    "    \"\"\"\n",
    "    # Initialize all checks as False\n",
    "    has_upper = False\n",
    "    has_lower = False\n",
    "    has_digit = False\n",
    "    has_symbol = False\n",
    "    no_spaces = True\n",
    "    \n",
    "    # Check each character in the password\n",
    "    for ch in pw:\n",
    "        if ch.isupper():\n",
    "            has_upper = True\n",
    "        elif ch.islower():\n",
    "            has_lower = True\n",
    "        elif ch.isdigit():\n",
    "            has_digit = True\n",
    "        elif ch in \"!@#$%^&*\":\n",
    "            has_symbol = True\n",
    "        elif ch == \" \":\n",
    "            no_spaces = False\n",
    "    \n",
    "    # Check minimum length\n",
    "    long_enough = len(pw) >= 10\n",
    "    \n",
    "    # Determine overall validity\n",
    "    is_valid = has_upper and has_lower and has_digit and has_symbol and no_spaces and long_enough\n",
    "    \n",
    "    # Return results as dictionary\n",
    "    return {\n",
    "        \"Length >= 10\": long_enough,\n",
    "        \"Has Uppercase\": has_upper,\n",
    "        \"Has Lowercase\": has_lower,\n",
    "        \"Has Digit\": has_digit,\n",
    "        \"Has Symbol\": has_symbol,\n",
    "        \"No Spaces\": no_spaces,\n",
    "        \"Valid\": is_valid\n",
    "    }\n",
    "\n",
    "# Main loop - keep asking until valid password or quit\n",
    "while True:\n",
    "    password = input(\"\\nEnter password (Q to quit): \")\n",
    "    \n",
    "    # Allow user to quit\n",
    "    if password.lower() == \"q\":\n",
    "        print(\"Exiting password checker.\")\n",
    "        break\n",
    "    \n",
    "    # Check password and display results\n",
    "    result = check_password(password)\n",
    "    \n",
    "    print(\"\\nPassword Validation Results:\")\n",
    "    for rule, passed in result.items():\n",
    "        print(f\"{rule}: {passed}\")\n",
    "    \n",
    "    # Exit loop if password is valid\n",
    "    if result[\"Valid\"]:\n",
    "        print(\"\\n✓ Password accepted!\")\n",
    "        break\n",
    "    else:\n",
    "        print(\"\\n✗ Password rejected. Try again.\")"
   ]
  },
  {
   "cell_type": "markdown",
   "id": "40121f40-2796-4018-a3ef-f46ec21f1755",
   "metadata": {},
   "source": [
    "## Q6. Dice Simulation (Monte Carlo)."
   ]
  },
  {
   "cell_type": "markdown",
   "id": "651ad5e6-e158-4618-9bcb-a646d5b03bba",
   "metadata": {},
   "source": [
    "### Task:"
   ]
  },
  {
   "cell_type": "markdown",
   "id": "fbdee791-ce1e-4dd6-8de4-d639fa85888e",
   "metadata": {},
   "source": [
    "Write roll() -> int to simulate a fair die,\n",
    "then simulate 100,000 rolls to estimate the probability that the sum of two dice\n",
    "equals 7. Compare empirical result to the exact probability. Comment on random\n",
    "seeding and reproducibility. Anchor concepts: random module, simulation, averages.\n",
    "Reference: :contentReference[oaicite:12]index=12"
   ]
  },
  {
   "cell_type": "markdown",
   "id": "4010d73a-5209-4230-9958-add57cd08a49",
   "metadata": {},
   "source": [
    "### Prompt: "
   ]
  },
  {
   "cell_type": "markdown",
   "id": "0f8c3214-a478-4862-9b12-996acced6cc7",
   "metadata": {},
   "source": [
    "Write a Python function roll() -> int that simulates rolling a fair six-sided die. Then use it to simulate 100,000 trials where you roll two dice and check if their sum equals 7. Calculate and display the probability estimate from the simulation and compare it to the exact theoretical probability.\n"
   ]
  },
  {
   "cell_type": "markdown",
   "id": "bbfd2194-1162-4c79-b2e8-ec6ad8b5a24f",
   "metadata": {},
   "source": [
    "### Claude Code:"
   ]
  },
  {
   "cell_type": "code",
   "execution_count": 14,
   "id": "d2ae8b15-541b-465e-af51-a9ff228d49f8",
   "metadata": {},
   "outputs": [
    {
     "name": "stdout",
     "output_type": "stream",
     "text": [
      "0.16729\n"
     ]
    }
   ],
   "source": [
    "import random\n",
    "\n",
    "count = 0\n",
    "for _ in range(100000):\n",
    "    if random.randint(1, 6) + random.randint(1, 6) == 7:\n",
    "        count += 1\n",
    "\n",
    "print(count / 100000)"
   ]
  },
  {
   "cell_type": "markdown",
   "id": "0f86f5f8-d938-4106-8bc8-873e872c5a8e",
   "metadata": {},
   "source": [
    "### Critique:"
   ]
  },
  {
   "cell_type": "markdown",
   "id": "c931fb0d-257d-4a43-b7b6-8ce2a6fdb48b",
   "metadata": {},
   "source": [
    "Correctness: The simulation works correctly and approximates the theoretical probability of 1/6 (≈0.1667). The logic for checking sum equals 7 is correct.\n",
    "\n",
    "Complexity: O(n) where n is the number of trials (100,000). Each trial does constant time work, so overall linear time.\n",
    "\n",
    "Robustness: No error handling needed since everything is hardcoded. Works reliably without crashes. However, doesn't define a separate roll() function as requested.\n",
    "\n",
    "Readability: Simple and clear but missing comments explaining what's happening. No function structure and no comparison to exact probability shown. Variable name count is okay but could be more descriptive.\n",
    "\n",
    "Faithfulness: Uses random.randint() from the random module as covered in lecture on simulation. Follows Monte Carlo approach discussed in class for probability estimation."
   ]
  },
  {
   "cell_type": "markdown",
   "id": "d82e8f08-ab7f-44ab-b4aa-b72c27056cad",
   "metadata": {},
   "source": [
    "### Improved Code:"
   ]
  },
  {
   "cell_type": "code",
   "execution_count": 15,
   "id": "ac8e1bc0-a4db-454d-b1e7-e6e350df39fd",
   "metadata": {},
   "outputs": [
    {
     "name": "stdout",
     "output_type": "stream",
     "text": [
      "Simulating 100,000 dice rolls...\n",
      "Estimated Probability: 0.16690\n",
      "Exact Probability: 0.16667\n",
      "Difference: 0.00023\n"
     ]
    }
   ],
   "source": [
    "import random\n",
    "\n",
    "def roll():\n",
    "    \"\"\"\n",
    "    Simulate rolling a fair six-sided die.\n",
    "    \n",
    "    Returns random integer from 1 to 6.\n",
    "    \"\"\"\n",
    "    return random.randint(1, 6)\n",
    "\n",
    "def simulate_dice_sum(trials=100000):\n",
    "    \"\"\"\n",
    "    Simulate rolling two dice and count how many times sum equals 7.\n",
    "    \"\"\"\n",
    "    success_count = 0\n",
    "    \n",
    "    for _ in range(trials):\n",
    "        # Roll two dice\n",
    "        die1 = roll()\n",
    "        die2 = roll()\n",
    "        \n",
    "        # Check if sum is 7\n",
    "        if die1 + die2 == 7:\n",
    "            success_count += 1\n",
    "    \n",
    "    # Calculate empirical probability\n",
    "    empirical_prob = success_count / trials\n",
    "    return empirical_prob\n",
    "\n",
    "# Run simulation\n",
    "print(\"Simulating 100,000 dice rolls...\")\n",
    "estimated = simulate_dice_sum(100000)\n",
    "exact = 6 / 36  # Ways to get 7: (1,6), (2,5), (3,4), (4,3), (5,2), (6,1)\n",
    "\n",
    "print(f\"Estimated Probability: {estimated:.5f}\")\n",
    "print(f\"Exact Probability: {exact:.5f}\")\n",
    "print(f\"Difference: {abs(estimated - exact):.5f}\")\n",
    "\n",
    "# Note on random seeding:\n",
    "# I didn't use random.seed() because the assignment focuses on random trials.\n",
    "# If reproducibility is needed, add random.seed(42) at the start.\n",
    "# This makes results identical across runs, useful for testing/debugging."
   ]
  },
  {
   "cell_type": "markdown",
   "id": "f3414b9e-6288-4fd7-ad4d-ff573fd68153",
   "metadata": {},
   "source": [
    "## Q7. OOP: Vehicles with Odometer and Fuel"
   ]
  },
  {
   "cell_type": "markdown",
   "id": "67d3c3df-1cba-4ef6-a693-dae53923921d",
   "metadata": {},
   "source": [
    "### Task:"
   ]
  },
  {
   "cell_type": "markdown",
   "id": "d9db2a9a-5b3c-44a2-b774-491e3a18161d",
   "metadata": {},
   "source": [
    "Design classes Vehicle (base),\n",
    "Car and Truck (children). Each has color, mileage, and fuel_liters. Provide\n",
    "drive(km, km_per_liter) which increments mileage and decreases fuel (never below 0) and refuel(liters). Show how inheritance avoids duplication and add\n",
    "a method override in Truck (e.g., different efficiency). Include a minimal test\n",
    "script. Anchor concepts: classes vs. instances, attributes, instance methods, inheritance/override. Reference: :contentReference[oaicite:13]index=13"
   ]
  },
  {
   "cell_type": "markdown",
   "id": "8614acb3-c5b3-4dfa-86f6-e09931fa14a5",
   "metadata": {},
   "source": [
    "### Prompt:"
   ]
  },
  {
   "cell_type": "markdown",
   "id": "b7fb9a10-8de5-4381-a0a6-f428dcb129ac",
   "metadata": {},
   "source": [
    "Design a Vehicle base class with attributes color, mileage, and fuel_liters. Add methods drive(km, km_per_liter) that increases mileage and decreases fuel (fuel should never go below 0), and refuel(liters) that adds fuel. Then create Car and Truck child classes that inherit from Vehicle. The Truck class should override the drive method to be less fuel efficient (uses more fuel per km)."
   ]
  },
  {
   "cell_type": "markdown",
   "id": "c1f7dab1-b6f0-41c1-9e02-baffd875fb99",
   "metadata": {},
   "source": [
    "### Claude Code:"
   ]
  },
  {
   "cell_type": "code",
   "execution_count": 20,
   "id": "b09d0b58-a301-4b45-a3ce-d865214ff315",
   "metadata": {},
   "outputs": [
    {
     "name": "stdout",
     "output_type": "stream",
     "text": [
      "5100 30.0\n"
     ]
    }
   ],
   "source": [
    "class Vehicle:\n",
    "    def __init__(self, color, mileage, fuel_liters):\n",
    "        self.color = color\n",
    "        self.mileage = mileage\n",
    "        self.fuel_liters = fuel_liters\n",
    "    \n",
    "    def drive(self, km, km_per_liter):\n",
    "        fuel_needed = km / km_per_liter\n",
    "        self.mileage += km\n",
    "        self.fuel_liters = max(0, self.fuel_liters - fuel_needed)\n",
    "    \n",
    "    def refuel(self, liters):\n",
    "        self.fuel_liters += liters\n",
    "\n",
    "class Car(Vehicle):\n",
    "    pass\n",
    "\n",
    "class Truck(Vehicle):\n",
    "    def drive(self, km, km_per_liter):\n",
    "        fuel_needed = (km / km_per_liter) * 1.2\n",
    "        self.mileage += km\n",
    "        self.fuel_liters = max(0, self.fuel_liters - fuel_needed)\n",
    "\n",
    "car = Car(\"red\", 5000, 40)\n",
    "car.drive(100, 10)\n",
    "print(car.mileage, car.fuel_liters)"
   ]
  },
  {
   "cell_type": "markdown",
   "id": "e48a6140-0b86-46b6-b328-a1b628b3248f",
   "metadata": {},
   "source": [
    "### Critique:"
   ]
  },
  {
   "cell_type": "markdown",
   "id": "9dbd1758-0bcd-421c-aabf-64393b663b1e",
   "metadata": {},
   "source": [
    "Correctness: Basic structure is correct. Vehicle class has required attributes and methods. Truck overrides drive to use more fuel. However, the drive method doesn't check if there's enough fuel before driving the full distance.\n",
    "\n",
    "Complexity: O(1) for all operations (drive, refuel). Each method does constant time work regardless of input values.\n",
    "\n",
    "Robustness: Doesn't validate negative km or invalid km_per_liter values. The drive method should check if there's enough fuel and only drive as far as possible, not the full distance. Missing input validation for refuel as well.\n",
    "\n",
    "Readability: Code is clean but lacks comments and docstrings. Variable names are clear. Could use more explanation of the inheritance relationship and method override.\n",
    "\n",
    "Faithfulness: Uses class inheritance and method override concepts from OOP lectures. Demonstrates the DRY principle where Car inherits everything from Vehicle without duplication."
   ]
  },
  {
   "cell_type": "markdown",
   "id": "80145cde-0e1f-4a92-847b-318efee47ba2",
   "metadata": {},
   "source": [
    "### Improved Code:"
   ]
  },
  {
   "cell_type": "code",
   "execution_count": 22,
   "id": "54426dbc-d954-4e89-bacd-bb85f35e3e4f",
   "metadata": {},
   "outputs": [
    {
     "name": "stdout",
     "output_type": "stream",
     "text": [
      "=== Testing Car ===\n",
      "Initial: 10000 km, 50 L\n",
      "After driving: 10100 km, 40.0 L\n",
      "\n",
      "=== Testing Truck ===\n",
      "Initial: 50000 km, 80 L\n",
      "After driving: 50100 km, 67.5 L\n"
     ]
    }
   ],
   "source": [
    "class Vehicle:\n",
    "    \"\"\"Base class for all vehicles with fuel tracking.\"\"\"\n",
    "    \n",
    "    def __init__(self, color, mileage, fuel_liters):\n",
    "        # Initialize vehicle attributes\n",
    "        self.color = color\n",
    "        self.mileage = mileage\n",
    "        self.fuel_liters = fuel_liters\n",
    "    \n",
    "    def drive(self, km, km_per_liter):\n",
    "        \"\"\"\n",
    "        Drive the vehicle, consuming fuel and increasing mileage.\n",
    "        Only drives as far as fuel allows.\n",
    "        \"\"\"\n",
    "        # Validate inputs\n",
    "        if km < 0 or km_per_liter <= 0:\n",
    "            print(\"Invalid distance or efficiency\")\n",
    "            return\n",
    "        \n",
    "        # Calculate fuel needed for full distance\n",
    "        fuel_needed = km / km_per_liter\n",
    "        \n",
    "        # Check if we have enough fuel\n",
    "        if self.fuel_liters >= fuel_needed:\n",
    "            # Can complete full journey\n",
    "            self.mileage += km\n",
    "            self.fuel_liters -= fuel_needed\n",
    "        else:\n",
    "            # Only drive as far as fuel allows\n",
    "            distance_possible = self.fuel_liters * km_per_liter\n",
    "            self.mileage += distance_possible\n",
    "            self.fuel_liters = 0\n",
    "            print(f\"Ran out of fuel after {distance_possible:.2f} km\")\n",
    "    \n",
    "    def refuel(self, liters):\n",
    "        \"\"\"Add fuel to the tank.\"\"\"\n",
    "        if liters < 0:\n",
    "            print(\"Cannot add negative fuel\")\n",
    "        else:\n",
    "            self.fuel_liters += liters\n",
    "\n",
    "\n",
    "class Car(Vehicle):\n",
    "    \"\"\"Car inherits all methods from Vehicle without changes.\"\"\"\n",
    "    pass\n",
    "\n",
    "\n",
    "class Truck(Vehicle):\n",
    "    \"\"\"Truck is less fuel efficient than regular vehicles.\"\"\"\n",
    "    \n",
    "    def drive(self, km, km_per_liter):\n",
    "        \"\"\"\n",
    "        Trucks use 20% more fuel (less efficient).\n",
    "        Overrides parent drive method.\n",
    "        \"\"\"\n",
    "        # Reduce efficiency by 20%\n",
    "        adjusted_efficiency = km_per_liter * 0.8\n",
    "        # Call parent's drive method with adjusted efficiency\n",
    "        Vehicle.drive(self, km, adjusted_efficiency)\n",
    "\n",
    "\n",
    "# Test the classes\n",
    "print(\"=== Testing Car ===\")\n",
    "car = Car(\"Red\", 10000, 50)\n",
    "print(f\"Initial: {car.mileage} km, {car.fuel_liters} L\")\n",
    "car.drive(100, 10)\n",
    "print(f\"After driving: {car.mileage} km, {car.fuel_liters} L\")\n",
    "\n",
    "print(\"\\n=== Testing Truck ===\")\n",
    "truck = Truck(\"Blue\", 50000, 80)\n",
    "print(f\"Initial: {truck.mileage} km, {truck.fuel_liters} L\")\n",
    "truck.drive(100, 10)\n",
    "print(f\"After driving: {truck.mileage} km, {truck.fuel_liters} L\")"
   ]
  },
  {
   "cell_type": "markdown",
   "id": "834174e2-926d-402a-9db3-ea93ff2510dd",
   "metadata": {},
   "source": [
    "## Q8. OOP + Composition: Kennel with Dogs"
   ]
  },
  {
   "cell_type": "markdown",
   "id": "02a12f2b-d9e8-4b90-9c8d-6ccdd05f3f6a",
   "metadata": {},
   "source": [
    "### Task:"
   ]
  },
  {
   "cell_type": "markdown",
   "id": "763d2ce7-39f6-43f0-bf0b-5cfa997d1465",
   "metadata": {},
   "source": [
    "Using a Dog class (name, age, breed,\n",
    "bark()), implement a Kennel manager that holds multiple Dog instances, supports\n",
    "add_dog, remove_dog, oldest_dog(), and find_by_breed(breed). Compare composition vs. inheritance for this scenario. Anchor concepts: OOP design, managing\n",
    "collections of objects. Reference: :contentReference[oaicite:14]index=14"
   ]
  },
  {
   "cell_type": "markdown",
   "id": "8988bc7b-7468-4598-8197-27abd249b783",
   "metadata": {},
   "source": [
    "### Prompt:"
   ]
  },
  {
   "cell_type": "markdown",
   "id": "974914ff-b93a-47d7-9970-00e0a23fe80f",
   "metadata": {},
   "source": [
    "Create a Dog class with attributes name, age, and breed, and a bark() method. Then implement a Kennel class that manages multiple Dog objects with methods to add_dog, remove_dog, find the oldest_dog, and find_by_breed. The Kennel should store Dog instances in a list."
   ]
  },
  {
   "cell_type": "markdown",
   "id": "f2c1fcf8-37cc-438a-ba86-751515c423b5",
   "metadata": {},
   "source": [
    "### Claude Code:"
   ]
  },
  {
   "cell_type": "code",
   "execution_count": 24,
   "id": "88a0cf17-1bd4-4a96-90f3-6caa530733dc",
   "metadata": {},
   "outputs": [
    {
     "name": "stdout",
     "output_type": "stream",
     "text": [
      "Buddy\n"
     ]
    }
   ],
   "source": [
    "class Dog:\n",
    "    def __init__(self, name, age, breed):\n",
    "        self.name = name\n",
    "        self.age = age\n",
    "        self.breed = breed\n",
    "    \n",
    "    def bark(self):\n",
    "        print(f\"{self.name} says woof!\")\n",
    "\n",
    "class Kennel:\n",
    "    def __init__(self):\n",
    "        self.dogs = []\n",
    "    \n",
    "    def add_dog(self, dog):\n",
    "        self.dogs.append(dog)\n",
    "    \n",
    "    def remove_dog(self, name):\n",
    "        self.dogs = [d for d in self.dogs if d.name != name]\n",
    "    \n",
    "    def oldest_dog(self):\n",
    "        return max(self.dogs, key=lambda d: d.age)\n",
    "    \n",
    "    def find_by_breed(self, breed):\n",
    "        return [d for d in self.dogs if d.breed == breed]\n",
    "\n",
    "# Test\n",
    "k = Kennel()\n",
    "k.add_dog(Dog(\"Buddy\", 5, \"Labrador\"))\n",
    "k.add_dog(Dog(\"Max\", 3, \"Poodle\"))\n",
    "print(k.oldest_dog().name)"
   ]
  },
  {
   "cell_type": "markdown",
   "id": "4ab5ed8e-c8b7-4f73-8afc-04596b8934a1",
   "metadata": {},
   "source": [
    "### Critique:"
   ]
  },
  {
   "cell_type": "markdown",
   "id": "fdb6bfff-962f-487f-81e1-ef2abb914477",
   "metadata": {},
   "source": [
    "Correctness: Basic functionality works. Dogs can be added, removed, and searched. The oldest_dog and find_by_breed methods work correctly when dogs exist.\n",
    "\n",
    "Complexity: add_dog is O(1), remove_dog is O(n), oldest_dog is O(n), find_by_breed is O(n) where n is the number of dogs. All reasonable for typical kennel sizes.\n",
    "\n",
    "Robustness: The oldest_dog method will crash if the kennel is empty (max on empty list raises ValueError). remove_dog doesn't notify if the dog wasn't found. No validation that added objects are actually Dog instances.\n",
    "\n",
    "Readability: Code is clean but lacks docstrings and comments. List comprehensions are concise but could use explanation. The lambda function might be unfamiliar.\n",
    "\n",
    "Faithfulness: Demonstrates composition (Kennel \"has\" Dogs) as covered in OOP lectures. Uses collections to manage multiple objects as discussed in class."
   ]
  },
  {
   "cell_type": "markdown",
   "id": "243d9b5c-b183-48f5-8591-f3cf90dddd2c",
   "metadata": {},
   "source": [
    "### Improved Code:"
   ]
  },
  {
   "cell_type": "code",
   "execution_count": 25,
   "id": "3e394150-57a2-446e-9c11-3fbbc8f680c7",
   "metadata": {},
   "outputs": [
    {
     "name": "stdout",
     "output_type": "stream",
     "text": [
      "=== Kennel Management System ===\n",
      "\n",
      "Buddy added to kennel\n",
      "Max added to kennel\n",
      "Charlie added to kennel\n",
      "\n",
      "Finding oldest dog...\n",
      "Oldest dog: Max, 8 years old\n",
      "\n",
      "Finding Labradors...\n",
      "- Buddy\n",
      "- Charlie\n",
      "\n",
      "Removing Max...\n",
      "Max removed from kennel\n"
     ]
    }
   ],
   "source": [
    "class Dog:\n",
    "    \"\"\"Represents a dog with basic attributes.\"\"\"\n",
    "    \n",
    "    def __init__(self, name, age, breed):\n",
    "        self.name = name\n",
    "        self.age = age\n",
    "        self.breed = breed\n",
    "    \n",
    "    def bark(self):\n",
    "        \"\"\"Dog makes a sound.\"\"\"\n",
    "        return f\"{self.name} says Woof!\"\n",
    "\n",
    "\n",
    "class Kennel:\n",
    "    \"\"\"Manages a collection of Dog objects using composition.\"\"\"\n",
    "    \n",
    "    def __init__(self):\n",
    "        # Kennel \"has\" dogs (composition, not inheritance)\n",
    "        self.dogs = []\n",
    "    \n",
    "    def add_dog(self, dog):\n",
    "        \"\"\"Add a dog to the kennel.\"\"\"\n",
    "        self.dogs.append(dog)\n",
    "        print(f\"{dog.name} added to kennel\")\n",
    "    \n",
    "    def remove_dog(self, name):\n",
    "        \"\"\"Remove a dog by name.\"\"\"\n",
    "        found = False\n",
    "        new_list = []\n",
    "        \n",
    "        for dog in self.dogs:\n",
    "            if dog.name != name:\n",
    "                new_list.append(dog)\n",
    "            else:\n",
    "                found = True\n",
    "        \n",
    "        self.dogs = new_list\n",
    "        \n",
    "        if found:\n",
    "            print(f\"{name} removed from kennel\")\n",
    "        else:\n",
    "            print(f\"{name} not found in kennel\")\n",
    "    \n",
    "    def oldest_dog(self):\n",
    "        \"\"\"Find and return the oldest dog.\"\"\"\n",
    "        if len(self.dogs) == 0:\n",
    "            print(\"Kennel is empty\")\n",
    "            return None\n",
    "        \n",
    "        oldest = self.dogs[0]\n",
    "        for dog in self.dogs:\n",
    "            if dog.age > oldest.age:\n",
    "                oldest = dog\n",
    "        \n",
    "        return oldest\n",
    "    \n",
    "    def find_by_breed(self, breed):\n",
    "        \"\"\"Find all dogs of a specific breed.\"\"\"\n",
    "        result = []\n",
    "        for dog in self.dogs:\n",
    "            if dog.breed.lower() == breed.lower():\n",
    "                result.append(dog)\n",
    "        return result\n",
    "\n",
    "\n",
    "# Test the classes\n",
    "print(\"=== Kennel Management System ===\\n\")\n",
    "\n",
    "kennel = Kennel()\n",
    "\n",
    "# Add dogs\n",
    "dog1 = Dog(\"Buddy\", 5, \"Labrador\")\n",
    "dog2 = Dog(\"Max\", 8, \"Poodle\")\n",
    "dog3 = Dog(\"Charlie\", 3, \"Labrador\")\n",
    "\n",
    "kennel.add_dog(dog1)\n",
    "kennel.add_dog(dog2)\n",
    "kennel.add_dog(dog3)\n",
    "\n",
    "# Find oldest\n",
    "print(\"\\nFinding oldest dog...\")\n",
    "oldest = kennel.oldest_dog()\n",
    "if oldest:\n",
    "    print(f\"Oldest dog: {oldest.name}, {oldest.age} years old\")\n",
    "\n",
    "# Find by breed\n",
    "print(\"\\nFinding Labradors...\")\n",
    "labradors = kennel.find_by_breed(\"Labrador\")\n",
    "for dog in labradors:\n",
    "    print(f\"- {dog.name}\")\n",
    "\n",
    "# Remove a dog\n",
    "print(\"\\nRemoving Max...\")\n",
    "kennel.remove_dog(\"Max\")\n",
    "\n",
    "# Composition vs Inheritance:\n",
    "# We use composition (Kennel \"has\" Dogs) not inheritance (Kennel \"is a\" Dog)\n",
    "# because a Kennel manages dogs but is not a type of dog itself."
   ]
  },
  {
   "cell_type": "markdown",
   "id": "2bc2fe83-51a9-47db-9ad7-741e62489847",
   "metadata": {},
   "source": [
    "## Q9. Modules and Packages: Helpers"
   ]
  },
  {
   "cell_type": "markdown",
   "id": "99de1268-53b5-4f84-97a2-b815c64668e3",
   "metadata": {},
   "source": [
    "### Task:"
   ]
  },
  {
   "cell_type": "markdown",
   "id": "b97ea259-a312-4987-84e8-017173139bf6",
   "metadata": {},
   "source": [
    "Create a package helpers/ with modules\n",
    "string_utils.py (function shout(s) uppercases) and math_utils.py (function area(l,w)).\n",
    "Then a main.py that imports with both import ... as ... and from ...\n",
    "import .... Explain namespace collisions and why aliases help. Anchor concepts: modules, packages, import variations, namespaces. Reference: :contentReference[oaicite:15]index=15"
   ]
  },
  {
   "cell_type": "markdown",
   "id": "687892e6-8ba1-4049-ba0f-3f14c58c00bb",
   "metadata": {},
   "source": [
    "### Prompt:"
   ]
  },
  {
   "cell_type": "markdown",
   "id": "76a3200e-a18a-46ca-8994-293be8186858",
   "metadata": {},
   "source": [
    "Create a package called helpers with two modules: string_utils.py containing a function shout(s) that converts a string to uppercase, and math_utils.py containing a function area(l, w) that calculates rectangle area. Then write a main.py that imports these functions using different import styles including 'import ... as ...' and 'from ... import ...'."
   ]
  },
  {
   "cell_type": "markdown",
   "id": "0a889ac1-6c3d-42d2-9929-d15c40d3cffa",
   "metadata": {},
   "source": [
    "### Claude Code:"
   ]
  },
  {
   "cell_type": "code",
   "execution_count": 39,
   "id": "ef17e685-acec-4ec8-93ef-8695a48b0160",
   "metadata": {},
   "outputs": [
    {
     "name": "stdout",
     "output_type": "stream",
     "text": [
      "HELLO\n",
      "15\n"
     ]
    }
   ],
   "source": [
    "# helpers/string_utils.py\n",
    "def shout(s):\n",
    "    return s.upper()\n",
    "\n",
    "# helpers/math_utils.py\n",
    "def area(l, w):\n",
    "    return l * w\n",
    "\n",
    "# main.py\n",
    "from helpers.string_utils import shout\n",
    "from helpers.math_utils import area\n",
    "\n",
    "print(shout(\"hello\"))\n",
    "print(area(5, 3))"
   ]
  },
  {
   "cell_type": "markdown",
   "id": "d6c29226-e652-4d73-8847-c4ad78ff5483",
   "metadata": {},
   "source": [
    "### Critique:"
   ]
  },
  {
   "cell_type": "markdown",
   "id": "068adde8-9811-4c6c-ad1c-73b4ee9d743e",
   "metadata": {},
   "source": [
    "Correctness: The code structure is correct. However, as expected, the LLM isn't able to create the package files by itself. Running this sent code without migrating the shout and area functions to their proper packages will cause an error. \n",
    "\n",
    "Complexity: O(n) for shout where n is string length, O(1) for area. Both are simple operations.\n",
    "    \n",
    "Robustness: No input validation. shout will crash on non-string inputs. area doesn't check for negative values or non-numeric inputs. Missing __init__.py file to make helpers a proper package.\n",
    "\n",
    "Readability: Code is simple and clean but lacks docstrings and comments. Doesn't demonstrate different import styles as requested (only shows from...import style).\n",
    "\n",
    "Faithfulness: Uses basic import statements covered in lecture on modules and packages. However, doesn't show aliasing with 'as' keyword or discuss namespace issues."
   ]
  },
  {
   "cell_type": "markdown",
   "id": "11f66581-5670-4494-b765-be59d7dbb4ee",
   "metadata": {},
   "source": [
    "### Improved Code:"
   ]
  },
  {
   "cell_type": "code",
   "execution_count": 38,
   "id": "df7f731c-7eeb-42a6-bfab-9d9054e89f76",
   "metadata": {},
   "outputs": [
    {
     "name": "stdout",
     "output_type": "stream",
     "text": [
      "Style 1 (import ... as ...):\n",
      "HELLO WORLD\n",
      "50\n",
      "\n",
      "Style 2 (from ... import ...):\n",
      "PYTHON\n",
      "21\n",
      "\n",
      "Style 3 (from ... import ... as ...):\n",
      "GOODBYE\n",
      "24\n"
     ]
    }
   ],
   "source": [
    "\"\"\"\n",
    "Demonstrates different import styles and aliasing.\n",
    "\"\"\"\n",
    "\n",
    "# Style 1: Import entire module with alias\n",
    "import helpers.string_utils as su\n",
    "import helpers.math_utils as mu\n",
    "\n",
    "print(\"Style 1 (import ... as ...):\")\n",
    "print(su.shout(\"hello world\"))\n",
    "print(mu.area(10, 5))\n",
    "\n",
    "# Style 2: Import specific functions directly\n",
    "from helpers.string_utils import shout\n",
    "from helpers.math_utils import area\n",
    "\n",
    "print(\"\\nStyle 2 (from ... import ...):\")\n",
    "print(shout(\"python\"))\n",
    "print(area(7, 3))\n",
    "\n",
    "# Style 3: Import with function alias\n",
    "from helpers.string_utils import shout as yell\n",
    "from helpers.math_utils import area as calculate_area\n",
    "\n",
    "print(\"\\nStyle 3 (from ... import ... as ...):\")\n",
    "print(yell(\"goodbye\"))\n",
    "print(calculate_area(6, 4))\n",
    "\n",
    "# Namespace collisions:\n",
    "# If both modules had a function with the same name (e.g., 'process'),\n",
    "# the second import would overwrite the first one.\n",
    "# Using aliases helps avoid this problem by giving functions unique names.\n",
    "# Example: from module1 import process as process1\n",
    "#          from module2 import process as process2"
   ]
  },
  {
   "cell_type": "markdown",
   "id": "93bb2060-739e-47e9-8568-9296aae6f002",
   "metadata": {},
   "source": [
    "## Q10. Robust Temperature Converter (Functions + Exceptions)"
   ]
  },
  {
   "cell_type": "markdown",
   "id": "05aa33e4-c0a5-4d6d-b33c-790737ac88a5",
   "metadata": {},
   "source": [
    "### Task:"
   ]
  },
  {
   "cell_type": "markdown",
   "id": "e9accf24-acf5-443c-8c1d-060c67731ae6",
   "metadata": {},
   "source": [
    "Write two functions: cel_to_far(c) and far_to_cel(f) with type hints and docstrings. Build a\n",
    "CLI that asks the user which direction to convert and validates input (gracefully\n",
    "handles bad entries). Include unit tests (doctest or simple asserts) covering typical\n",
    "and edge cases (e.g., -40). Anchor concepts: writing functions, control flow, input\n",
    "handling, testing"
   ]
  },
  {
   "cell_type": "markdown",
   "id": "39a0507e-f07f-402f-b181-daa4f7f4e2a5",
   "metadata": {},
   "source": [
    "### Prompt:"
   ]
  },
  {
   "cell_type": "markdown",
   "id": "64a989de-acdf-4d1e-ad0c-a47ac3448f76",
   "metadata": {},
   "source": [
    "Write two Python functions cel_to_far(c) and far_to_cel(f) that convert between Celsius and Fahrenheit. Include type hints and docstrings. Then create a CLI program that asks the user which conversion they want and handles invalid inputs gracefully. Include test cases for typical values and edge cases like -40.\n"
   ]
  },
  {
   "cell_type": "markdown",
   "id": "a471dfc3-1d34-4f7c-82db-d90d5d6f6878",
   "metadata": {},
   "source": [
    "### Claude Code:"
   ]
  },
  {
   "cell_type": "code",
   "execution_count": 40,
   "id": "ba60d525-6179-4b54-95d2-1ce2cbbde900",
   "metadata": {},
   "outputs": [
    {
     "name": "stdout",
     "output_type": "stream",
     "text": [
      "32.0\n",
      "0.0\n"
     ]
    }
   ],
   "source": [
    "def cel_to_far(c):\n",
    "    return (c * 9/5) + 32\n",
    "\n",
    "def far_to_cel(f):\n",
    "    return (f - 32) * 5/9\n",
    "\n",
    "# Test\n",
    "print(cel_to_far(0))\n",
    "print(far_to_cel(32))"
   ]
  },
  {
   "cell_type": "markdown",
   "id": "b2b78fdc-5116-46c1-a21b-5a10aee69b4b",
   "metadata": {},
   "source": [
    "### Critique:"
   ]
  },
  {
   "cell_type": "markdown",
   "id": "49a116e6-5ee6-4736-9b53-8a953ecd47e7",
   "metadata": {},
   "source": [
    "Correctness: The conversion formulas are mathematically correct. Both functions produce accurate results for valid numeric inputs.\n",
    "    \n",
    "Complexity: O(1) time and space for both functions. Simple arithmetic operations that run in constant time.\n",
    "                               \n",
    "Robustness: No input validation at all. Will crash if non-numeric values are passed. No error handling with try/except blocks. Doesn't check for unrealistic temperatures.\n",
    "\n",
    "Readability: Very simple code but missing type hints, docstrings, and comments. No CLI interface or user interaction as requested. No test cases included.\n",
    "    \n",
    "Faithfulness: Uses basic arithmetic operations covered in lecture on functions and expressions. Missing the exception handling and input validation techniques discussed in class."
   ]
  },
  {
   "cell_type": "markdown",
   "id": "f9ca0146-30f7-44cd-b70d-e51f3598e235",
   "metadata": {},
   "source": [
    "### Improved Code:"
   ]
  },
  {
   "cell_type": "code",
   "execution_count": 42,
   "id": "e67fabb0-423a-4bab-a1be-188c9fc88efe",
   "metadata": {},
   "outputs": [
    {
     "name": "stdout",
     "output_type": "stream",
     "text": [
      "=== Running Test Cases ===\n",
      "\n",
      "Typical Cases:\n",
      "0°C = 32.0°F (expected 32)\n",
      "100°C = 212.0°F (expected 212)\n",
      "32°F = 0.0°C (expected 0)\n",
      "212°F = 100.0°C (expected 100)\n",
      "\n",
      "Edge Case:\n",
      "-40°C = -40.0°F (expected -40)\n",
      "-40°F = -40.0°C (expected -40)\n",
      "\n",
      "\n",
      "=== Temperature Converter ===\n",
      "1. Celsius to Fahrenheit\n",
      "2. Fahrenheit to Celsius\n",
      "Q. Quit\n"
     ]
    },
    {
     "name": "stdin",
     "output_type": "stream",
     "text": [
      "\n",
      "Enter your choice:  1\n",
      "Enter temperature:  249\n"
     ]
    },
    {
     "name": "stdout",
     "output_type": "stream",
     "text": [
      "249.0°C = 480.2°F\n"
     ]
    }
   ],
   "source": [
    "def cel_to_far(c: float) -> float:\n",
    "    \"\"\"\n",
    "    Convert Celsius to Fahrenheit.\n",
    "    \n",
    "    Args:\n",
    "        c: Temperature in Celsius\n",
    "    \n",
    "    Returns:\n",
    "        Temperature in Fahrenheit\n",
    "    \"\"\"\n",
    "    if type(c) not in [int, float]:\n",
    "        print(\"Error: Temperature must be a number\")\n",
    "        return None\n",
    "    \n",
    "    # Formula: F = (C × 9/5) + 32\n",
    "    return (c * 9/5) + 32\n",
    "\n",
    "\n",
    "def far_to_cel(f: float) -> float:\n",
    "    \"\"\"\n",
    "    Convert Fahrenheit to Celsius.\n",
    "    \n",
    "    Args:\n",
    "        f: Temperature in Fahrenheit\n",
    "    \n",
    "    Returns:\n",
    "        Temperature in Celsius\n",
    "    \"\"\"\n",
    "    if type(f) not in [int, float]:\n",
    "        print(\"Error: Temperature must be a number\")\n",
    "        return None\n",
    "    \n",
    "    # Formula: C = (F - 32) × 5/9\n",
    "    return (f - 32) * 5/9\n",
    "\n",
    "\n",
    "# CLI Program\n",
    "def temperature_converter():\n",
    "    \"\"\"Interactive temperature converter with input validation.\"\"\"\n",
    "    \n",
    "    print(\"=== Temperature Converter ===\")\n",
    "    print(\"1. Celsius to Fahrenheit\")\n",
    "    print(\"2. Fahrenheit to Celsius\")\n",
    "    print(\"Q. Quit\")\n",
    "    \n",
    "    choice = input(\"\\nEnter your choice: \").strip().lower()\n",
    "    \n",
    "    if choice == 'q':\n",
    "        print(\"Goodbye!\")\n",
    "        return\n",
    "    \n",
    "    # Validate choice\n",
    "    if choice not in ['1', '2']:\n",
    "        print(\"Invalid choice. Please enter 1, 2, or Q.\")\n",
    "        return\n",
    "    \n",
    "    # Get temperature input with error handling\n",
    "    try:\n",
    "        temp = float(input(\"Enter temperature: \"))\n",
    "        \n",
    "        if choice == '1':\n",
    "            result = cel_to_far(temp)\n",
    "            print(f\"{temp}°C = {result}°F\")\n",
    "        else:\n",
    "            result = far_to_cel(temp)\n",
    "            print(f\"{temp}°F = {result}°C\")\n",
    "    \n",
    "    except ValueError:\n",
    "        print(\"Error: Please enter a valid number\")\n",
    "\n",
    "\n",
    "# Test cases covering typical and edge cases\n",
    "print(\"=== Running Test Cases ===\\n\")\n",
    "\n",
    "# Typical cases\n",
    "print(\"Typical Cases:\")\n",
    "print(f\"0°C = {cel_to_far(0)}°F (expected 32)\")\n",
    "print(f\"100°C = {cel_to_far(100)}°F (expected 212)\")\n",
    "print(f\"32°F = {far_to_cel(32)}°C (expected 0)\")\n",
    "print(f\"212°F = {far_to_cel(212)}°C (expected 100)\")\n",
    "\n",
    "# Edge case: -40 (same in both scales)\n",
    "print(\"\\nEdge Case:\")\n",
    "print(f\"-40°C = {cel_to_far(-40)}°F (expected -40)\")\n",
    "print(f\"-40°F = {far_to_cel(-40)}°C (expected -40)\")\n",
    "\n",
    "# Run interactive converter\n",
    "print(\"\\n\")\n",
    "temperature_converter()"
   ]
  }
 ],
 "metadata": {
  "kernelspec": {
   "display_name": "Python 3 (ipykernel)",
   "language": "python",
   "name": "python3"
  },
  "language_info": {
   "codemirror_mode": {
    "name": "ipython",
    "version": 3
   },
   "file_extension": ".py",
   "mimetype": "text/x-python",
   "name": "python",
   "nbconvert_exporter": "python",
   "pygments_lexer": "ipython3",
   "version": "3.13.5"
  }
 },
 "nbformat": 4,
 "nbformat_minor": 5
}
