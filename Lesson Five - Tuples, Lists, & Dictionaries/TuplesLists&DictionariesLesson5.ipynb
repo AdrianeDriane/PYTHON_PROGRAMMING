{
 "cells": [
  {
   "cell_type": "markdown",
   "id": "37667861-7a8b-4937-87ba-5e345162b43b",
   "metadata": {},
   "source": [
    "# Review Exercise #1"
   ]
  },
  {
   "cell_type": "code",
   "execution_count": 11,
   "id": "35894e6c-305a-412c-8037-c7b18a2f0d8a",
   "metadata": {},
   "outputs": [],
   "source": [
    "cardinal_numbers = (\"First\", \"Second\", \"Third\")"
   ]
  },
  {
   "cell_type": "code",
   "execution_count": 12,
   "id": "6bdbd5ac-9463-48d8-86d9-b25f9a5e7810",
   "metadata": {},
   "outputs": [
    {
     "name": "stdout",
     "output_type": "stream",
     "text": [
      "Second\n"
     ]
    }
   ],
   "source": [
    "print(cardinal_numbers[1])"
   ]
  },
  {
   "cell_type": "code",
   "execution_count": 13,
   "id": "7b4a7a1c-cfc8-4d6e-b4b0-274c06d76abc",
   "metadata": {},
   "outputs": [
    {
     "name": "stdout",
     "output_type": "stream",
     "text": [
      "First\n",
      "Second\n",
      "Third\n"
     ]
    }
   ],
   "source": [
    "position1, position2, position3 = cardinal_numbers\n",
    "print(position1)\n",
    "print(position2)\n",
    "print(position3)"
   ]
  },
  {
   "cell_type": "code",
   "execution_count": 14,
   "id": "ae988569-ac1a-4b60-a088-4fc30d7b9520",
   "metadata": {},
   "outputs": [],
   "source": [
    "my_name = tuple(\"Adriane\")"
   ]
  },
  {
   "cell_type": "code",
   "execution_count": 15,
   "id": "aacf7bff-6054-48c3-a85a-1a1b4e2b255c",
   "metadata": {},
   "outputs": [
    {
     "name": "stdout",
     "output_type": "stream",
     "text": [
      "X is in my_name: False\n"
     ]
    }
   ],
   "source": [
    "print(f\"X is in my_name:\", \"X\" in my_name)"
   ]
  },
  {
   "cell_type": "code",
   "execution_count": 16,
   "id": "a9f5674f-5815-4c2c-8130-7c1de5722948",
   "metadata": {},
   "outputs": [
    {
     "name": "stdout",
     "output_type": "stream",
     "text": [
      "('d', 'r', 'i', 'a', 'n', 'e')\n"
     ]
    }
   ],
   "source": [
    "new_tuple = my_name[1:len(my_name)]\n",
    "print(new_tuple)"
   ]
  },
  {
   "cell_type": "markdown",
   "id": "4c067abc-2c6b-42ec-84c1-9546e2255fd4",
   "metadata": {},
   "source": [
    "# Review Exercise #2"
   ]
  },
  {
   "cell_type": "code",
   "execution_count": 17,
   "id": "ac74df44-866d-490d-aacd-caa6d5b0a6b3",
   "metadata": {},
   "outputs": [],
   "source": [
    "food = [\"Rice\", \"Beans\"]"
   ]
  },
  {
   "cell_type": "code",
   "execution_count": 18,
   "id": "1b1aec18-916c-4639-9ddf-d89efecfc445",
   "metadata": {},
   "outputs": [],
   "source": [
    "food.append(\"Broccoli\")"
   ]
  },
  {
   "cell_type": "code",
   "execution_count": 19,
   "id": "226b0833-fd21-4280-bed4-44abc0d96bd6",
   "metadata": {},
   "outputs": [],
   "source": [
    "food.extend([\"Bread\", \"Pizza\"])"
   ]
  },
  {
   "cell_type": "code",
   "execution_count": 21,
   "id": "41298231-fcab-44ed-9782-99015bcd18c7",
   "metadata": {},
   "outputs": [
    {
     "name": "stdout",
     "output_type": "stream",
     "text": [
      "['Rice', 'Beans']\n"
     ]
    }
   ],
   "source": [
    "print(food[0:2])"
   ]
  },
  {
   "cell_type": "code",
   "execution_count": 39,
   "id": "913d6ff7-f4da-4507-9120-acdd75aeb2e7",
   "metadata": {},
   "outputs": [
    {
     "name": "stdout",
     "output_type": "stream",
     "text": [
      "Pizza\n"
     ]
    }
   ],
   "source": [
    "print(food[len(food) - 1])"
   ]
  },
  {
   "cell_type": "code",
   "execution_count": 49,
   "id": "e3119eca-7b46-4812-baa0-0678154b33b1",
   "metadata": {},
   "outputs": [],
   "source": [
    "breakfast = \"Eggs, Fruit, Orange Juice\".split(\", \")"
   ]
  },
  {
   "cell_type": "code",
   "execution_count": 23,
   "id": "4ec22a47-c25d-49e5-9a9c-2d9ec28cc5c0",
   "metadata": {},
   "outputs": [
    {
     "name": "stdout",
     "output_type": "stream",
     "text": [
      "3\n"
     ]
    }
   ],
   "source": [
    "print(len(breakfast))"
   ]
  },
  {
   "cell_type": "code",
   "execution_count": 24,
   "id": "f9d8f6ae-77d8-441c-86d7-82933ab9a874",
   "metadata": {},
   "outputs": [
    {
     "name": "stdout",
     "output_type": "stream",
     "text": [
      "[4, 5, 12]\n"
     ]
    }
   ],
   "source": [
    "lengths = [len(food) for food in breakfast]\n",
    "print(lengths)"
   ]
  },
  {
   "cell_type": "markdown",
   "id": "bca79cde-9451-4224-9e68-d35f9f232d72",
   "metadata": {},
   "source": [
    "# Review Exercise #3"
   ]
  },
  {
   "cell_type": "code",
   "execution_count": 50,
   "id": "4f86d802-cabc-4d68-ba6f-7f38fc772369",
   "metadata": {},
   "outputs": [],
   "source": [
    "tuple_data = ((1,2), (3,4))"
   ]
  },
  {
   "cell_type": "code",
   "execution_count": 51,
   "id": "c49cb585-68cc-4942-a64b-64c1cea06cda",
   "metadata": {},
   "outputs": [
    {
     "name": "stdout",
     "output_type": "stream",
     "text": [
      "Row 1 sum: 3\n",
      "Row 1 sum: 7\n"
     ]
    }
   ],
   "source": [
    "for data in tuple_data:\n",
    "    print(\"Row 1 sum:\", sum(data))"
   ]
  },
  {
   "cell_type": "code",
   "execution_count": 52,
   "id": "583581d8-fde9-4cfd-bc14-f4ef33e25ea3",
   "metadata": {},
   "outputs": [
    {
     "name": "stdout",
     "output_type": "stream",
     "text": [
      "[5, 2, 3, 5, 6, 7]\n"
     ]
    }
   ],
   "source": [
    "numbers_list = [5,2,3,5,6,7]\n",
    "numbers_copy = numbers_list[:]\n",
    "print(numbers_copy)"
   ]
  },
  {
   "cell_type": "code",
   "execution_count": 53,
   "id": "ecd14b15-78cd-4008-9d02-2d82feb004d2",
   "metadata": {},
   "outputs": [
    {
     "name": "stdout",
     "output_type": "stream",
     "text": [
      "[2, 3, 5, 5, 6, 7]\n"
     ]
    }
   ],
   "source": [
    "numbers_list.sort()\n",
    "print(numbers_list)"
   ]
  },
  {
   "cell_type": "markdown",
   "id": "3e1e71e8-1b28-4cdf-b421-eededaf5a6c9",
   "metadata": {},
   "source": [
    "# Challenge: List of Lists"
   ]
  },
  {
   "cell_type": "code",
   "execution_count": 30,
   "id": "825cdadb-29e3-46f5-9a53-c74adb5b9201",
   "metadata": {},
   "outputs": [
    {
     "name": "stdout",
     "output_type": "stream",
     "text": [
      "[['California Institute of Technology', 2175, 37704], ['Harvard', 19627, 39849], ['Massachusetts Institute of Technology', 10566, 40732], ['Princeton', 7802, 37000], ['Rice', 5879, 35551], ['Stanford', 19535, 40569], ['Yale', 11701, 40500]]\n"
     ]
    }
   ],
   "source": [
    "universities = [\n",
    "    ['California Institute of Technology', 2175, 37704],\n",
    "    ['Harvard', 19627, 39849],\n",
    "    ['Massachusetts Institute of Technology', 10566, 40732],\n",
    "    ['Princeton', 7802, 37000],\n",
    "    ['Rice', 5879, 35551],\n",
    "    ['Stanford', 19535, 40569],\n",
    "    ['Yale', 11701, 40500]\n",
    "]\n",
    "print(universities)"
   ]
  },
  {
   "cell_type": "markdown",
   "id": "d55073a3-ab48-457a-ae90-89037c5e01c1",
   "metadata": {},
   "source": [
    "# Challenge: Wax Poetic"
   ]
  },
  {
   "cell_type": "code",
   "execution_count": 54,
   "id": "d63d3602-f462-487f-a405-0ee94c3cf5d9",
   "metadata": {},
   "outputs": [
    {
     "name": "stdout",
     "output_type": "stream",
     "text": [
      "['FOSSIL', 'HORSE', 'AARDVARK', 'JUDGE', 'CHEF', 'MANGO', 'EXTROVERT', 'GORILLA']\n",
      "['KICKS', 'JINGLES', 'BOUNCES', 'SLURPS', 'MEOWS', 'EXPLODES', 'CURDLES']\n",
      "['FURRY', 'BALDING', 'INCREDULOUS', 'FRAGRANT', 'EXUBERANT', 'GLISTENING']\n",
      "['AGAINST', 'AFTER', 'INTO', 'BENEATH', 'UPON', 'FOR', 'INLIKE', 'OVER', 'WITHIN']\n",
      "['CURIOUSLY', 'FURIOUSLY', 'SENSUOUSLY', 'EXTRAVAGANTLY', 'TANTALIZINGLY']\n"
     ]
    }
   ],
   "source": [
    "nouns = [\"FOSSIL\", \"HORSE\", \"AARDVARK\", \"JUDGE\", \"CHEF\", \"MANGO\",\"EXTROVERT\", \"GORILLA\"]\n",
    "verbs = [\"KICKS\", \"JINGLES\", \"BOUNCES\", \"SLURPS\", \"MEOWS\", \"EXPLODES\", \"CURDLES\"]\n",
    "adjectives = [\"FURRY\", \"BALDING\", \"INCREDULOUS\", \"FRAGRANT\", \"EXUBERANT\", \"GLISTENING\"]\n",
    "prepositions = [\"AGAINST\", \"AFTER\", \"INTO\", \"BENEATH\", \"UPON\", \"FOR\", \"IN\" \"LIKE\", \"OVER\", \"WITHIN\"]\n",
    "adverbs = [\"CURIOUSLY\", \"FURIOUSLY\", \"SENSUOUSLY\",  \"EXTRAVAGANTLY\", \"TANTALIZINGLY\"]\n",
    "print(nouns)\n",
    "print(verbs)\n",
    "print(adjectives)\n",
    "print(prepositions)\n",
    "print(adverbs)"
   ]
  },
  {
   "cell_type": "markdown",
   "id": "070127e3-4bac-49e5-80f6-e502c5f6467f",
   "metadata": {},
   "source": [
    "# Review Exercise #4"
   ]
  },
  {
   "cell_type": "code",
   "execution_count": 35,
   "id": "986c559f-601b-41ce-ad8d-84dbda8530b4",
   "metadata": {},
   "outputs": [],
   "source": [
    "captains = {}"
   ]
  },
  {
   "cell_type": "code",
   "execution_count": 36,
   "id": "51a7dd31-bb0a-4fd5-985d-84bee5da252d",
   "metadata": {},
   "outputs": [],
   "source": [
    "captains[\"Enterprise\"] = \"Picard\"\n",
    "captains[\"Voyager\"] = \"Janeway\"\n",
    "captains[\"Defiant\"] = \"Sisko\""
   ]
  },
  {
   "cell_type": "code",
   "execution_count": 45,
   "id": "bee2ee36-4102-44f6-9cf8-9856bc82902e",
   "metadata": {},
   "outputs": [],
   "source": [
    "if \"Enterprise\" not in captains:\n",
    "    captains[\"Enterprise\"] = \"Unknown\"\n",
    "\n",
    "if \"Discovery\" not in captains:\n",
    "    captains[\"Discovery\"] = \"Unknown\""
   ]
  },
  {
   "cell_type": "code",
   "execution_count": 41,
   "id": "7f8952db-1405-41af-84ca-9ae5343a057f",
   "metadata": {},
   "outputs": [
    {
     "name": "stdout",
     "output_type": "stream",
     "text": [
      "The Enterprise is captained by Picard\n",
      "The Voyager is captained by Janeway\n",
      "The Defiant is captained by Sisko\n",
      "The Discovery is captained by Unknown\n"
     ]
    }
   ],
   "source": [
    "for item in captains:\n",
    "    print(f\"The {item} is captained by {captains[item]}\")"
   ]
  },
  {
   "cell_type": "code",
   "execution_count": 46,
   "id": "d01f3dc1-559a-4be2-9c15-eddeea497c6a",
   "metadata": {},
   "outputs": [],
   "source": [
    "del captains[\"Discovery\"]"
   ]
  },
  {
   "cell_type": "code",
   "execution_count": 47,
   "id": "42209909-4a29-4c80-9aa6-1f1704c95467",
   "metadata": {},
   "outputs": [],
   "source": [
    "captains_dict_keyword = dict(Enterprise = \"Picard\", Voyager = \"Janeway\", Defiant = \"Sisko\")"
   ]
  },
  {
   "cell_type": "markdown",
   "id": "71ad9a77-99ad-40e4-94be-9fe3a3e6f4d4",
   "metadata": {},
   "source": [
    "# Challenge: Capital City Loop"
   ]
  },
  {
   "cell_type": "code",
   "execution_count": 60,
   "id": "af7f95d5-e37e-46d8-9b98-5133917c7718",
   "metadata": {},
   "outputs": [
    {
     "name": "stdout",
     "output_type": "stream",
     "text": [
      "Guess the Capital City!\n",
      "Enter 'exit' to quit.\n",
      "\n"
     ]
    },
    {
     "name": "stdin",
     "output_type": "stream",
     "text": [
      "Guess the Capital City for the State California:  saCraMentO\n"
     ]
    },
    {
     "name": "stdout",
     "output_type": "stream",
     "text": [
      "You got the correct answer!\n"
     ]
    },
    {
     "name": "stdin",
     "output_type": "stream",
     "text": [
      "Guess the Capital City for the State Georgia:  Alaska\n"
     ]
    },
    {
     "name": "stdout",
     "output_type": "stream",
     "text": [
      "You got the wrong answer!\n"
     ]
    },
    {
     "name": "stdin",
     "output_type": "stream",
     "text": [
      "Guess the Capital City for the State Arizona:  ExIt\n"
     ]
    },
    {
     "name": "stdout",
     "output_type": "stream",
     "text": [
      "\n",
      "Thanks for playing!\n"
     ]
    }
   ],
   "source": [
    "import random\n",
    "\n",
    "capitals_dict = {\n",
    "    'Alabama': 'Montgomery',\n",
    "    'Alaska': 'Juneau',\n",
    "    'Arizona': 'Phoenix',\n",
    "    'Arkansas': 'Little Rock',\n",
    "    'California': 'Sacramento',\n",
    "    'Colorado': 'Denver',\n",
    "    'Connecticut': 'Hartford',\n",
    "    'Delaware': 'Dover',\n",
    "    'Florida': 'Tallahassee',\n",
    "    'Georgia': 'Atlanta',\n",
    "}\n",
    "\n",
    "print(\"Guess the Capital City!\")\n",
    "print(\"Enter 'exit' to quit.\\n\")\n",
    "\n",
    "while True:\n",
    "    state = random.choice(list(capitals_dict.keys()))\n",
    "    capital = capitals_dict[state]\n",
    "\n",
    "    answer = input(f\"Guess the Capital City for the State {state}: \")\n",
    "\n",
    "    if answer.lower() == \"exit\":\n",
    "        break;\n",
    "\n",
    "    if answer.lower() == capital.lower():\n",
    "        print(\"You got the correct answer!\")\n",
    "    else:\n",
    "        print(\"You got the wrong answer!\")\n",
    "\n",
    "print(\"\\nThanks for playing!\")"
   ]
  }
 ],
 "metadata": {
  "kernelspec": {
   "display_name": "Python 3 (ipykernel)",
   "language": "python",
   "name": "python3"
  },
  "language_info": {
   "codemirror_mode": {
    "name": "ipython",
    "version": 3
   },
   "file_extension": ".py",
   "mimetype": "text/x-python",
   "name": "python",
   "nbconvert_exporter": "python",
   "pygments_lexer": "ipython3",
   "version": "3.13.5"
  }
 },
 "nbformat": 4,
 "nbformat_minor": 5
}
