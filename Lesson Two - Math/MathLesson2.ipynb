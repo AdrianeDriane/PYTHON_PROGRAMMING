{
 "cells": [
  {
   "cell_type": "markdown",
   "id": "97f10c37-dd17-4610-808e-53b4f2787beb",
   "metadata": {},
   "source": [
    "# Review Question #1"
   ]
  },
  {
   "cell_type": "code",
   "execution_count": 3,
   "id": "4600b796-507b-4d42-b121-e79f928bf324",
   "metadata": {},
   "outputs": [
    {
     "name": "stdout",
     "output_type": "stream",
     "text": [
      "25000000\n",
      "25000000\n"
     ]
    }
   ],
   "source": [
    "num1 = 25_000_000\n",
    "num2 = 25000000\n",
    "print(num1)\n",
    "print(num2)"
   ]
  },
  {
   "cell_type": "code",
   "execution_count": 8,
   "id": "dfede60c-537d-4386-ae3e-abc821c989b6",
   "metadata": {},
   "outputs": [
    {
     "name": "stdout",
     "output_type": "stream",
     "text": [
      "175000.0\n"
     ]
    }
   ],
   "source": [
    "num = 17.5e4\n",
    "print(num)"
   ]
  },
  {
   "cell_type": "code",
   "execution_count": 32,
   "id": "b29b816d-895b-42e2-8c59-47fd04f15c0b",
   "metadata": {},
   "outputs": [
    {
     "name": "stdout",
     "output_type": "stream",
     "text": [
      "inf\n"
     ]
    }
   ],
   "source": [
    "my_num = 2e308\n",
    "print(my_num)"
   ]
  },
  {
   "cell_type": "markdown",
   "id": "2eb749f4-3bc2-490d-a0d4-b1be7913a06d",
   "metadata": {},
   "source": [
    "# Review Question #2"
   ]
  },
  {
   "cell_type": "code",
   "execution_count": 36,
   "id": "168629c6-3b33-4cbc-b2ba-002e0ad0b767",
   "metadata": {},
   "outputs": [
    {
     "name": "stdin",
     "output_type": "stream",
     "text": [
      "Enter a base:  5\n",
      "Enter an exponent:  2\n"
     ]
    },
    {
     "name": "stdout",
     "output_type": "stream",
     "text": [
      "25.0\n"
     ]
    }
   ],
   "source": [
    "base = input(\"Enter a base: \")\n",
    "exponent = input(\"Enter an exponent: \")\n",
    "final_num = float(base) ** int(exponent)\n",
    "print(final_num)"
   ]
  },
  {
   "cell_type": "markdown",
   "id": "6c28107f-a76f-4144-a047-a0f2f54cc6f5",
   "metadata": {},
   "source": [
    "# Review Question #3"
   ]
  },
  {
   "cell_type": "code",
   "execution_count": 41,
   "id": "996a1274-cc50-4992-8cf6-80c838a8346e",
   "metadata": {},
   "outputs": [
    {
     "name": "stdin",
     "output_type": "stream",
     "text": [
      "Enter a number:  5.432\n"
     ]
    },
    {
     "name": "stdout",
     "output_type": "stream",
     "text": [
      "5.432 rounded to 2 decimal places is 5.43\n"
     ]
    }
   ],
   "source": [
    "num = input(\"Enter a number: \")\n",
    "rounded = round(float(num), 2)\n",
    "print(f\"{num} rounded to 2 decimal places is {rounded}\")"
   ]
  },
  {
   "cell_type": "code",
   "execution_count": 43,
   "id": "b1bbbe6f-3996-4760-bd86-b07fd1a4daca",
   "metadata": {},
   "outputs": [
    {
     "name": "stdin",
     "output_type": "stream",
     "text": [
      "Enter a number:  -10\n"
     ]
    },
    {
     "name": "stdout",
     "output_type": "stream",
     "text": [
      "The absolute value of -10 is 10.0\n"
     ]
    }
   ],
   "source": [
    "num = input(\"Enter a number: \")\n",
    "absolute = abs(float(num))\n",
    "print(f\"The absolute value of {num} is {absolute}\") "
   ]
  },
  {
   "cell_type": "markdown",
   "id": "b7b6009f-60fe-4162-be1e-d99ff0b86b1a",
   "metadata": {},
   "source": [
    "# Review Question #4"
   ]
  },
  {
   "cell_type": "code",
   "execution_count": 52,
   "id": "cf083c8d-4513-422c-844a-e2c119afbbdf",
   "metadata": {},
   "outputs": [
    {
     "name": "stdin",
     "output_type": "stream",
     "text": [
      "Enter a number:  1.5\n",
      "Enter another number:  1.0\n"
     ]
    },
    {
     "name": "stdout",
     "output_type": "stream",
     "text": [
      "The difference between 1.5 and 1.0 is an integer? False!\n"
     ]
    }
   ],
   "source": [
    "num_1 = float(input(\"Enter a number: \"))\n",
    "num_2 = float(input(\"Enter another number: \"))\n",
    "\n",
    "is_integer = int(num_1 - num_2) == num_1 - num_2\n",
    "print(f\"The difference between {num_1} and {num_2} is an integer? {is_integer}!\")"
   ]
  },
  {
   "cell_type": "markdown",
   "id": "cf304b41-7847-4b79-82e7-99c1d6ab8f4b",
   "metadata": {},
   "source": [
    "# Review Question #5"
   ]
  },
  {
   "cell_type": "code",
   "execution_count": 58,
   "id": "0e3e6b4b-5fa4-4bd2-8ef3-e47eadb70f08",
   "metadata": {},
   "outputs": [
    {
     "name": "stdout",
     "output_type": "stream",
     "text": [
      "1.147\n"
     ]
    }
   ],
   "source": [
    "result =  3 ** .125\n",
    "print(round(result, 3))"
   ]
  },
  {
   "cell_type": "code",
   "execution_count": 66,
   "id": "121d452d-a77c-4c9a-b603-519792d8b27e",
   "metadata": {},
   "outputs": [
    {
     "name": "stdout",
     "output_type": "stream",
     "text": [
      "150000 converted to currency: ₱150,000.00\n"
     ]
    }
   ],
   "source": [
    "num = 150000\n",
    "print(f\"{num} converted to currency: ₱{num:,.2f}\")"
   ]
  },
  {
   "cell_type": "code",
   "execution_count": 70,
   "id": "2339a570-0e1d-4a01-b77d-b539e178db8c",
   "metadata": {},
   "outputs": [
    {
     "name": "stdout",
     "output_type": "stream",
     "text": [
      "0.2 displayed as percentage: 20%\n"
     ]
    }
   ],
   "source": [
    "result = 2 / 10\n",
    "print(f\"{result} displayed as percentage: {result:.0%}\")"
   ]
  }
 ],
 "metadata": {
  "kernelspec": {
   "display_name": "Python 3 (ipykernel)",
   "language": "python",
   "name": "python3"
  },
  "language_info": {
   "codemirror_mode": {
    "name": "ipython",
    "version": 3
   },
   "file_extension": ".py",
   "mimetype": "text/x-python",
   "name": "python",
   "nbconvert_exporter": "python",
   "pygments_lexer": "ipython3",
   "version": "3.13.5"
  }
 },
 "nbformat": 4,
 "nbformat_minor": 5
}
