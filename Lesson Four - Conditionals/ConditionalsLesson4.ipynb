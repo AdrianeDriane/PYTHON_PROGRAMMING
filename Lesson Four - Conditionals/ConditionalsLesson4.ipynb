{
 "cells": [
  {
   "cell_type": "markdown",
   "id": "aa843886-aa80-48b4-95e6-28fb3054d5c9",
   "metadata": {},
   "source": [
    "# Review Question #1"
   ]
  },
  {
   "cell_type": "code",
   "execution_count": 2,
   "id": "f3baf5bc-e6d9-488a-89a3-41e3877129c4",
   "metadata": {},
   "outputs": [
    {
     "name": "stdout",
     "output_type": "stream",
     "text": [
      "True\n",
      "False\n",
      "True\n",
      "True\n",
      "True\n",
      "False\n"
     ]
    }
   ],
   "source": [
    "print(1 <= 1)\n",
    "print(1 != 1)\n",
    "print(1 != 2)\n",
    "print(\"good\" != \"bad\")\n",
    "print(\"good\" != \"Good\")\n",
    "print(123 == \"123\")"
   ]
  },
  {
   "cell_type": "code",
   "execution_count": 4,
   "id": "828fd808-e367-4fbe-a377-49477b89c9c9",
   "metadata": {},
   "outputs": [
    {
     "name": "stdout",
     "output_type": "stream",
     "text": [
      "True\n",
      "True\n",
      "True\n",
      "True\n"
     ]
    }
   ],
   "source": [
    "print(3 < 4)\n",
    "print(10 > 5)\n",
    "print(\"jack\" != \"jill\")\n",
    "print(42 != \"42\")"
   ]
  },
  {
   "cell_type": "markdown",
   "id": "e87d0cc4-2245-4f86-a24e-16b6de86a610",
   "metadata": {},
   "source": [
    "# Review Question #2"
   ]
  },
  {
   "cell_type": "code",
   "execution_count": 5,
   "id": "46fcd811-215c-4d7d-a81b-523c3b44b572",
   "metadata": {},
   "outputs": [
    {
     "name": "stdout",
     "output_type": "stream",
     "text": [
      "False\n",
      "False\n",
      "True\n",
      "True\n"
     ]
    }
   ],
   "source": [
    "print((1 <= 1) and (1 != 1))\n",
    "print(not (1 != 2))\n",
    "print(\"good\" != \"bad\") or False\n",
    "print(\"good\" != \"Good\") and not (1==1)"
   ]
  },
  {
   "cell_type": "code",
   "execution_count": 7,
   "id": "ecbfc3a5-828f-4728-be15-a8e981b2a569",
   "metadata": {},
   "outputs": [
    {
     "name": "stdout",
     "output_type": "stream",
     "text": [
      "True\n",
      "False\n",
      "False\n"
     ]
    }
   ],
   "source": [
    "print(False == (not True))\n",
    "print(True and False == True and False)\n",
    "print(not True and \"A\" == \"B\")"
   ]
  },
  {
   "cell_type": "markdown",
   "id": "7be88285-0441-4310-91ce-a3c1a15dff3b",
   "metadata": {},
   "source": [
    "# Review Question #3"
   ]
  },
  {
   "cell_type": "code",
   "execution_count": 14,
   "id": "61bdffd7-4e51-4509-9054-1a2ee0aa1582",
   "metadata": {},
   "outputs": [
    {
     "name": "stdin",
     "output_type": "stream",
     "text": [
      "Enter a word:  ralph\n"
     ]
    },
    {
     "name": "stdout",
     "output_type": "stream",
     "text": [
      "ralph has exactly 5 characters.\n"
     ]
    }
   ],
   "source": [
    "word = input(\"Enter a word: \")\n",
    "\n",
    "if len(word) < 5:\n",
    "    print(f\"{word} has less than 5 characters.\")\n",
    "elif len(word) > 5:\n",
    "    print(f\"{word} has more than 5 characters.\")\n",
    "else:\n",
    "    print(f\"{word} has exactly 5 characters.\")"
   ]
  },
  {
   "cell_type": "markdown",
   "id": "23269164-72b3-4e02-8ef7-976782588178",
   "metadata": {},
   "source": [
    "# Review Question #4"
   ]
  },
  {
   "cell_type": "code",
   "execution_count": 18,
   "id": "52e165fb-d72b-43da-a914-fedf49ffa1ba",
   "metadata": {},
   "outputs": [
    {
     "name": "stdin",
     "output_type": "stream",
     "text": [
      "Enter any input:  Test\n",
      "Enter any input:  123\n",
      "Enter any input:  23.123\n",
      "Enter any input:  Q\n"
     ]
    }
   ],
   "source": [
    "while True:\n",
    "    user_input = input(\"Enter any input: \")\n",
    "    if user_input == \"q\" or user_input == \"Q\": break"
   ]
  },
  {
   "cell_type": "code",
   "execution_count": 19,
   "id": "40433c02-77c5-4738-8584-fc6d72f8c9a0",
   "metadata": {},
   "outputs": [
    {
     "name": "stdout",
     "output_type": "stream",
     "text": [
      "1\n",
      "2\n",
      "4\n",
      "5\n",
      "7\n",
      "8\n",
      "10\n",
      "11\n",
      "13\n",
      "14\n",
      "16\n",
      "17\n",
      "19\n",
      "20\n",
      "22\n",
      "23\n",
      "25\n",
      "26\n",
      "28\n",
      "29\n",
      "31\n",
      "32\n",
      "34\n",
      "35\n",
      "37\n",
      "38\n",
      "40\n",
      "41\n",
      "43\n",
      "44\n",
      "46\n",
      "47\n",
      "49\n",
      "50\n"
     ]
    }
   ],
   "source": [
    "for i in range(1, 51): \n",
    "    if i % 3 == 0: \n",
    "        continue\n",
    "        \n",
    "    print(i)"
   ]
  },
  {
   "cell_type": "markdown",
   "id": "b085a88e-e6be-4b37-bbc0-ef76ae5ad3f4",
   "metadata": {},
   "source": [
    "# Review Question #5"
   ]
  },
  {
   "cell_type": "code",
   "execution_count": 28,
   "id": "44f764e5-8153-4c2e-a16d-499504fec6fd",
   "metadata": {},
   "outputs": [
    {
     "name": "stdin",
     "output_type": "stream",
     "text": [
      "Enter an integer:  a string\n"
     ]
    },
    {
     "name": "stdout",
     "output_type": "stream",
     "text": [
      "That was not an integer. Try again.\n"
     ]
    },
    {
     "name": "stdin",
     "output_type": "stream",
     "text": [
      "Enter an integer:  2.24\n"
     ]
    },
    {
     "name": "stdout",
     "output_type": "stream",
     "text": [
      "That was not an integer. Try again.\n"
     ]
    },
    {
     "name": "stdin",
     "output_type": "stream",
     "text": [
      "Enter an integer:  10\n"
     ]
    },
    {
     "name": "stdout",
     "output_type": "stream",
     "text": [
      "Successfully entered integer #10\n"
     ]
    }
   ],
   "source": [
    "while True:\n",
    "    try:\n",
    "        number = int(input(\"Enter an integer: \"))\n",
    "    except ValueError:\n",
    "        print(\"That was not an integer. Try again.\")\n",
    "        continue\n",
    "\n",
    "    print(f\"Successfully entered integer #{number}\")\n",
    "    break"
   ]
  },
  {
   "cell_type": "code",
   "execution_count": 32,
   "id": "7f37cd2b-aae2-47da-a205-c83458f1bd63",
   "metadata": {},
   "outputs": [
    {
     "name": "stdin",
     "output_type": "stream",
     "text": [
      "Enter a string:  The lazy fox loves jumping\n",
      "Enter index n:  4\n"
     ]
    },
    {
     "name": "stdout",
     "output_type": "stream",
     "text": [
      "The character in index #4 of the string The lazy fox loves jumping is: l\n"
     ]
    }
   ],
   "source": [
    "string = (input(\"Enter a string: \"))\n",
    "\n",
    "try:\n",
    "    index = int(input(\"Enter index n: \"))\n",
    "    print(f\"The character in index #{index} of the string {string} is: {string[index]}\")\n",
    "except ValueError:\n",
    "    print(\"That was not an integer.\")\n",
    "except IndexError:\n",
    "    print(\"The index number you entered is not within the length of the string's range.\")"
   ]
  },
  {
   "cell_type": "markdown",
   "id": "6535f7af-5b5e-4119-8f43-d08722ec4e44",
   "metadata": {},
   "source": [
    "# Review Question #6"
   ]
  },
  {
   "cell_type": "code",
   "execution_count": 46,
   "id": "317d1820-b3ad-4de1-97b9-e98c86114f69",
   "metadata": {},
   "outputs": [
    {
     "name": "stdout",
     "output_type": "stream",
     "text": [
      "5\n"
     ]
    }
   ],
   "source": [
    "import random\n",
    "\n",
    "def roll():\n",
    "    return random.randint(1, 6)\n",
    "\n",
    "print(roll())"
   ]
  },
  {
   "cell_type": "code",
   "execution_count": 53,
   "id": "038bbee5-824b-4329-9fbb-b7d76bb8dd0d",
   "metadata": {},
   "outputs": [
    {
     "name": "stdout",
     "output_type": "stream",
     "text": [
      "Average number being rolled: 3.503\n"
     ]
    }
   ],
   "source": [
    "sum = 0\n",
    "\n",
    "for i in range(0, 10000):\n",
    "    sum += roll()\n",
    "\n",
    "print(f\"Average number being rolled: {sum / 10000}\")"
   ]
  },
  {
   "cell_type": "markdown",
   "id": "f2821240-f060-4489-a90c-59bebf590857",
   "metadata": {},
   "source": [
    "# CHALLENGE: SIMULATE AN ELECTION"
   ]
  },
  {
   "cell_type": "code",
   "execution_count": 8,
   "id": "c6ce2933-99be-490d-bb1b-1437c8fc12d9",
   "metadata": {},
   "outputs": [
    {
     "name": "stdout",
     "output_type": "stream",
     "text": [
      "Estimated probability Candidate A wins: 0.6297\n"
     ]
    }
   ],
   "source": [
    "import random\n",
    "\n",
    "probabilities = [0.87, 0.65, 0.17]\n",
    "num_trials = 100_000\n",
    "wins_for_A = 0\n",
    "\n",
    "for _ in range(num_trials):\n",
    "    wins_in_regions = 0\n",
    "\n",
    "    for p in probabilities:\n",
    "        if random.random() < p:\n",
    "            wins_in_regions += 1\n",
    "\n",
    "    if wins_in_regions >= 2:\n",
    "        wins_for_A += 1\n",
    "\n",
    "probability_A_wins = wins_for_A / num_trials\n",
    "print(f\"Estimated probability Candidate A wins: {probability_A_wins:.4f}\")"
   ]
  }
 ],
 "metadata": {
  "kernelspec": {
   "display_name": "Python 3 (ipykernel)",
   "language": "python",
   "name": "python3"
  },
  "language_info": {
   "codemirror_mode": {
    "name": "ipython",
    "version": 3
   },
   "file_extension": ".py",
   "mimetype": "text/x-python",
   "name": "python",
   "nbconvert_exporter": "python",
   "pygments_lexer": "ipython3",
   "version": "3.13.5"
  }
 },
 "nbformat": 4,
 "nbformat_minor": 5
}
